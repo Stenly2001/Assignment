{
  "nbformat": 4,
  "nbformat_minor": 0,
  "metadata": {
    "colab": {
      "provenance": []
    },
    "kernelspec": {
      "name": "python3",
      "display_name": "Python 3"
    },
    "language_info": {
      "name": "python"
    }
  },
  "cells": [
    {
      "cell_type": "code",
      "execution_count": null,
      "metadata": {
        "id": "Op0eQkXo_IZL"
      },
      "outputs": [],
      "source": [
        "import numpy as np\n",
        "import pandas as pd\n",
        "import matplotlib.pyplot as plt\n",
        "import seaborn as sns"
      ]
    },
    {
      "cell_type": "markdown",
      "source": [
        "### Loading Data Set"
      ],
      "metadata": {
        "id": "oQxwF6D2M6tJ"
      }
    },
    {
      "cell_type": "code",
      "source": [
        "data = pd.read_csv(\"/content/Wine_clust .csv\")\n",
        "data.head()"
      ],
      "metadata": {
        "colab": {
          "base_uri": "https://localhost:8080/",
          "height": 206
        },
        "id": "wkyzIGMB_XrQ",
        "outputId": "3e8707eb-5fac-452d-9982-124a213a341b"
      },
      "execution_count": null,
      "outputs": [
        {
          "output_type": "execute_result",
          "data": {
            "text/plain": [
              "   Alcohol  Malic_Acid   Ash  Ash_Alcanity  Magnesium  Total_Phenols  \\\n",
              "0    14.23        1.71  2.43          15.6        127           2.80   \n",
              "1    13.20        1.78  2.14          11.2        100           2.65   \n",
              "2    13.16        2.36  2.67          18.6        101           2.80   \n",
              "3    14.37        1.95  2.50          16.8        113           3.85   \n",
              "4    13.24        2.59  2.87          21.0        118           2.80   \n",
              "\n",
              "   Flavanoids  Nonflavanoid_Phenols  Proanthocyanins  Color_Intensity   Hue  \\\n",
              "0        3.06                  0.28             2.29             5.64  1.04   \n",
              "1        2.76                  0.26             1.28             4.38  1.05   \n",
              "2        3.24                  0.30             2.81             5.68  1.03   \n",
              "3        3.49                  0.24             2.18             7.80  0.86   \n",
              "4        2.69                  0.39             1.82             4.32  1.04   \n",
              "\n",
              "   OD280  Proline  \n",
              "0   3.92     1065  \n",
              "1   3.40     1050  \n",
              "2   3.17     1185  \n",
              "3   3.45     1480  \n",
              "4   2.93      735  "
            ],
            "text/html": [
              "\n",
              "  <div id=\"df-07eb50e9-4b23-48cb-a6c4-e495bab900ed\" class=\"colab-df-container\">\n",
              "    <div>\n",
              "<style scoped>\n",
              "    .dataframe tbody tr th:only-of-type {\n",
              "        vertical-align: middle;\n",
              "    }\n",
              "\n",
              "    .dataframe tbody tr th {\n",
              "        vertical-align: top;\n",
              "    }\n",
              "\n",
              "    .dataframe thead th {\n",
              "        text-align: right;\n",
              "    }\n",
              "</style>\n",
              "<table border=\"1\" class=\"dataframe\">\n",
              "  <thead>\n",
              "    <tr style=\"text-align: right;\">\n",
              "      <th></th>\n",
              "      <th>Alcohol</th>\n",
              "      <th>Malic_Acid</th>\n",
              "      <th>Ash</th>\n",
              "      <th>Ash_Alcanity</th>\n",
              "      <th>Magnesium</th>\n",
              "      <th>Total_Phenols</th>\n",
              "      <th>Flavanoids</th>\n",
              "      <th>Nonflavanoid_Phenols</th>\n",
              "      <th>Proanthocyanins</th>\n",
              "      <th>Color_Intensity</th>\n",
              "      <th>Hue</th>\n",
              "      <th>OD280</th>\n",
              "      <th>Proline</th>\n",
              "    </tr>\n",
              "  </thead>\n",
              "  <tbody>\n",
              "    <tr>\n",
              "      <th>0</th>\n",
              "      <td>14.23</td>\n",
              "      <td>1.71</td>\n",
              "      <td>2.43</td>\n",
              "      <td>15.6</td>\n",
              "      <td>127</td>\n",
              "      <td>2.80</td>\n",
              "      <td>3.06</td>\n",
              "      <td>0.28</td>\n",
              "      <td>2.29</td>\n",
              "      <td>5.64</td>\n",
              "      <td>1.04</td>\n",
              "      <td>3.92</td>\n",
              "      <td>1065</td>\n",
              "    </tr>\n",
              "    <tr>\n",
              "      <th>1</th>\n",
              "      <td>13.20</td>\n",
              "      <td>1.78</td>\n",
              "      <td>2.14</td>\n",
              "      <td>11.2</td>\n",
              "      <td>100</td>\n",
              "      <td>2.65</td>\n",
              "      <td>2.76</td>\n",
              "      <td>0.26</td>\n",
              "      <td>1.28</td>\n",
              "      <td>4.38</td>\n",
              "      <td>1.05</td>\n",
              "      <td>3.40</td>\n",
              "      <td>1050</td>\n",
              "    </tr>\n",
              "    <tr>\n",
              "      <th>2</th>\n",
              "      <td>13.16</td>\n",
              "      <td>2.36</td>\n",
              "      <td>2.67</td>\n",
              "      <td>18.6</td>\n",
              "      <td>101</td>\n",
              "      <td>2.80</td>\n",
              "      <td>3.24</td>\n",
              "      <td>0.30</td>\n",
              "      <td>2.81</td>\n",
              "      <td>5.68</td>\n",
              "      <td>1.03</td>\n",
              "      <td>3.17</td>\n",
              "      <td>1185</td>\n",
              "    </tr>\n",
              "    <tr>\n",
              "      <th>3</th>\n",
              "      <td>14.37</td>\n",
              "      <td>1.95</td>\n",
              "      <td>2.50</td>\n",
              "      <td>16.8</td>\n",
              "      <td>113</td>\n",
              "      <td>3.85</td>\n",
              "      <td>3.49</td>\n",
              "      <td>0.24</td>\n",
              "      <td>2.18</td>\n",
              "      <td>7.80</td>\n",
              "      <td>0.86</td>\n",
              "      <td>3.45</td>\n",
              "      <td>1480</td>\n",
              "    </tr>\n",
              "    <tr>\n",
              "      <th>4</th>\n",
              "      <td>13.24</td>\n",
              "      <td>2.59</td>\n",
              "      <td>2.87</td>\n",
              "      <td>21.0</td>\n",
              "      <td>118</td>\n",
              "      <td>2.80</td>\n",
              "      <td>2.69</td>\n",
              "      <td>0.39</td>\n",
              "      <td>1.82</td>\n",
              "      <td>4.32</td>\n",
              "      <td>1.04</td>\n",
              "      <td>2.93</td>\n",
              "      <td>735</td>\n",
              "    </tr>\n",
              "  </tbody>\n",
              "</table>\n",
              "</div>\n",
              "    <div class=\"colab-df-buttons\">\n",
              "\n",
              "  <div class=\"colab-df-container\">\n",
              "    <button class=\"colab-df-convert\" onclick=\"convertToInteractive('df-07eb50e9-4b23-48cb-a6c4-e495bab900ed')\"\n",
              "            title=\"Convert this dataframe to an interactive table.\"\n",
              "            style=\"display:none;\">\n",
              "\n",
              "  <svg xmlns=\"http://www.w3.org/2000/svg\" height=\"24px\" viewBox=\"0 -960 960 960\">\n",
              "    <path d=\"M120-120v-720h720v720H120Zm60-500h600v-160H180v160Zm220 220h160v-160H400v160Zm0 220h160v-160H400v160ZM180-400h160v-160H180v160Zm440 0h160v-160H620v160ZM180-180h160v-160H180v160Zm440 0h160v-160H620v160Z\"/>\n",
              "  </svg>\n",
              "    </button>\n",
              "\n",
              "  <style>\n",
              "    .colab-df-container {\n",
              "      display:flex;\n",
              "      gap: 12px;\n",
              "    }\n",
              "\n",
              "    .colab-df-convert {\n",
              "      background-color: #E8F0FE;\n",
              "      border: none;\n",
              "      border-radius: 50%;\n",
              "      cursor: pointer;\n",
              "      display: none;\n",
              "      fill: #1967D2;\n",
              "      height: 32px;\n",
              "      padding: 0 0 0 0;\n",
              "      width: 32px;\n",
              "    }\n",
              "\n",
              "    .colab-df-convert:hover {\n",
              "      background-color: #E2EBFA;\n",
              "      box-shadow: 0px 1px 2px rgba(60, 64, 67, 0.3), 0px 1px 3px 1px rgba(60, 64, 67, 0.15);\n",
              "      fill: #174EA6;\n",
              "    }\n",
              "\n",
              "    .colab-df-buttons div {\n",
              "      margin-bottom: 4px;\n",
              "    }\n",
              "\n",
              "    [theme=dark] .colab-df-convert {\n",
              "      background-color: #3B4455;\n",
              "      fill: #D2E3FC;\n",
              "    }\n",
              "\n",
              "    [theme=dark] .colab-df-convert:hover {\n",
              "      background-color: #434B5C;\n",
              "      box-shadow: 0px 1px 3px 1px rgba(0, 0, 0, 0.15);\n",
              "      filter: drop-shadow(0px 1px 2px rgba(0, 0, 0, 0.3));\n",
              "      fill: #FFFFFF;\n",
              "    }\n",
              "  </style>\n",
              "\n",
              "    <script>\n",
              "      const buttonEl =\n",
              "        document.querySelector('#df-07eb50e9-4b23-48cb-a6c4-e495bab900ed button.colab-df-convert');\n",
              "      buttonEl.style.display =\n",
              "        google.colab.kernel.accessAllowed ? 'block' : 'none';\n",
              "\n",
              "      async function convertToInteractive(key) {\n",
              "        const element = document.querySelector('#df-07eb50e9-4b23-48cb-a6c4-e495bab900ed');\n",
              "        const dataTable =\n",
              "          await google.colab.kernel.invokeFunction('convertToInteractive',\n",
              "                                                    [key], {});\n",
              "        if (!dataTable) return;\n",
              "\n",
              "        const docLinkHtml = 'Like what you see? Visit the ' +\n",
              "          '<a target=\"_blank\" href=https://colab.research.google.com/notebooks/data_table.ipynb>data table notebook</a>'\n",
              "          + ' to learn more about interactive tables.';\n",
              "        element.innerHTML = '';\n",
              "        dataTable['output_type'] = 'display_data';\n",
              "        await google.colab.output.renderOutput(dataTable, element);\n",
              "        const docLink = document.createElement('div');\n",
              "        docLink.innerHTML = docLinkHtml;\n",
              "        element.appendChild(docLink);\n",
              "      }\n",
              "    </script>\n",
              "  </div>\n",
              "\n",
              "\n",
              "<div id=\"df-9cc44109-f6c7-4c4f-9036-3ae3bebeee98\">\n",
              "  <button class=\"colab-df-quickchart\" onclick=\"quickchart('df-9cc44109-f6c7-4c4f-9036-3ae3bebeee98')\"\n",
              "            title=\"Suggest charts\"\n",
              "            style=\"display:none;\">\n",
              "\n",
              "<svg xmlns=\"http://www.w3.org/2000/svg\" height=\"24px\"viewBox=\"0 0 24 24\"\n",
              "     width=\"24px\">\n",
              "    <g>\n",
              "        <path d=\"M19 3H5c-1.1 0-2 .9-2 2v14c0 1.1.9 2 2 2h14c1.1 0 2-.9 2-2V5c0-1.1-.9-2-2-2zM9 17H7v-7h2v7zm4 0h-2V7h2v10zm4 0h-2v-4h2v4z\"/>\n",
              "    </g>\n",
              "</svg>\n",
              "  </button>\n",
              "\n",
              "<style>\n",
              "  .colab-df-quickchart {\n",
              "      --bg-color: #E8F0FE;\n",
              "      --fill-color: #1967D2;\n",
              "      --hover-bg-color: #E2EBFA;\n",
              "      --hover-fill-color: #174EA6;\n",
              "      --disabled-fill-color: #AAA;\n",
              "      --disabled-bg-color: #DDD;\n",
              "  }\n",
              "\n",
              "  [theme=dark] .colab-df-quickchart {\n",
              "      --bg-color: #3B4455;\n",
              "      --fill-color: #D2E3FC;\n",
              "      --hover-bg-color: #434B5C;\n",
              "      --hover-fill-color: #FFFFFF;\n",
              "      --disabled-bg-color: #3B4455;\n",
              "      --disabled-fill-color: #666;\n",
              "  }\n",
              "\n",
              "  .colab-df-quickchart {\n",
              "    background-color: var(--bg-color);\n",
              "    border: none;\n",
              "    border-radius: 50%;\n",
              "    cursor: pointer;\n",
              "    display: none;\n",
              "    fill: var(--fill-color);\n",
              "    height: 32px;\n",
              "    padding: 0;\n",
              "    width: 32px;\n",
              "  }\n",
              "\n",
              "  .colab-df-quickchart:hover {\n",
              "    background-color: var(--hover-bg-color);\n",
              "    box-shadow: 0 1px 2px rgba(60, 64, 67, 0.3), 0 1px 3px 1px rgba(60, 64, 67, 0.15);\n",
              "    fill: var(--button-hover-fill-color);\n",
              "  }\n",
              "\n",
              "  .colab-df-quickchart-complete:disabled,\n",
              "  .colab-df-quickchart-complete:disabled:hover {\n",
              "    background-color: var(--disabled-bg-color);\n",
              "    fill: var(--disabled-fill-color);\n",
              "    box-shadow: none;\n",
              "  }\n",
              "\n",
              "  .colab-df-spinner {\n",
              "    border: 2px solid var(--fill-color);\n",
              "    border-color: transparent;\n",
              "    border-bottom-color: var(--fill-color);\n",
              "    animation:\n",
              "      spin 1s steps(1) infinite;\n",
              "  }\n",
              "\n",
              "  @keyframes spin {\n",
              "    0% {\n",
              "      border-color: transparent;\n",
              "      border-bottom-color: var(--fill-color);\n",
              "      border-left-color: var(--fill-color);\n",
              "    }\n",
              "    20% {\n",
              "      border-color: transparent;\n",
              "      border-left-color: var(--fill-color);\n",
              "      border-top-color: var(--fill-color);\n",
              "    }\n",
              "    30% {\n",
              "      border-color: transparent;\n",
              "      border-left-color: var(--fill-color);\n",
              "      border-top-color: var(--fill-color);\n",
              "      border-right-color: var(--fill-color);\n",
              "    }\n",
              "    40% {\n",
              "      border-color: transparent;\n",
              "      border-right-color: var(--fill-color);\n",
              "      border-top-color: var(--fill-color);\n",
              "    }\n",
              "    60% {\n",
              "      border-color: transparent;\n",
              "      border-right-color: var(--fill-color);\n",
              "    }\n",
              "    80% {\n",
              "      border-color: transparent;\n",
              "      border-right-color: var(--fill-color);\n",
              "      border-bottom-color: var(--fill-color);\n",
              "    }\n",
              "    90% {\n",
              "      border-color: transparent;\n",
              "      border-bottom-color: var(--fill-color);\n",
              "    }\n",
              "  }\n",
              "</style>\n",
              "\n",
              "  <script>\n",
              "    async function quickchart(key) {\n",
              "      const quickchartButtonEl =\n",
              "        document.querySelector('#' + key + ' button');\n",
              "      quickchartButtonEl.disabled = true;  // To prevent multiple clicks.\n",
              "      quickchartButtonEl.classList.add('colab-df-spinner');\n",
              "      try {\n",
              "        const charts = await google.colab.kernel.invokeFunction(\n",
              "            'suggestCharts', [key], {});\n",
              "      } catch (error) {\n",
              "        console.error('Error during call to suggestCharts:', error);\n",
              "      }\n",
              "      quickchartButtonEl.classList.remove('colab-df-spinner');\n",
              "      quickchartButtonEl.classList.add('colab-df-quickchart-complete');\n",
              "    }\n",
              "    (() => {\n",
              "      let quickchartButtonEl =\n",
              "        document.querySelector('#df-9cc44109-f6c7-4c4f-9036-3ae3bebeee98 button');\n",
              "      quickchartButtonEl.style.display =\n",
              "        google.colab.kernel.accessAllowed ? 'block' : 'none';\n",
              "    })();\n",
              "  </script>\n",
              "</div>\n",
              "    </div>\n",
              "  </div>\n"
            ]
          },
          "metadata": {},
          "execution_count": 2
        }
      ]
    },
    {
      "cell_type": "code",
      "source": [
        "data.shape"
      ],
      "metadata": {
        "colab": {
          "base_uri": "https://localhost:8080/"
        },
        "id": "ks3n3Smk_ieQ",
        "outputId": "946423d0-22be-4dcd-ce96-ad3728218b0b"
      },
      "execution_count": null,
      "outputs": [
        {
          "output_type": "execute_result",
          "data": {
            "text/plain": [
              "(178, 13)"
            ]
          },
          "metadata": {},
          "execution_count": 3
        }
      ]
    },
    {
      "cell_type": "code",
      "source": [
        "data.info()"
      ],
      "metadata": {
        "colab": {
          "base_uri": "https://localhost:8080/"
        },
        "id": "B5Z7y1-k_d-C",
        "outputId": "45c47249-8ced-4a48-e48f-20cb76cee915"
      },
      "execution_count": null,
      "outputs": [
        {
          "output_type": "stream",
          "name": "stdout",
          "text": [
            "<class 'pandas.core.frame.DataFrame'>\n",
            "RangeIndex: 178 entries, 0 to 177\n",
            "Data columns (total 13 columns):\n",
            " #   Column                Non-Null Count  Dtype  \n",
            "---  ------                --------------  -----  \n",
            " 0   Alcohol               178 non-null    float64\n",
            " 1   Malic_Acid            178 non-null    float64\n",
            " 2   Ash                   178 non-null    float64\n",
            " 3   Ash_Alcanity          178 non-null    float64\n",
            " 4   Magnesium             178 non-null    int64  \n",
            " 5   Total_Phenols         178 non-null    float64\n",
            " 6   Flavanoids            178 non-null    float64\n",
            " 7   Nonflavanoid_Phenols  178 non-null    float64\n",
            " 8   Proanthocyanins       178 non-null    float64\n",
            " 9   Color_Intensity       178 non-null    float64\n",
            " 10  Hue                   178 non-null    float64\n",
            " 11  OD280                 178 non-null    float64\n",
            " 12  Proline               178 non-null    int64  \n",
            "dtypes: float64(11), int64(2)\n",
            "memory usage: 18.2 KB\n"
          ]
        }
      ]
    },
    {
      "cell_type": "code",
      "source": [
        "data.describe()"
      ],
      "metadata": {
        "colab": {
          "base_uri": "https://localhost:8080/",
          "height": 320
        },
        "id": "LW7zp2Qk_ggp",
        "outputId": "124eab7b-8f6d-4bef-d971-f09994092ddf"
      },
      "execution_count": null,
      "outputs": [
        {
          "output_type": "execute_result",
          "data": {
            "text/plain": [
              "          Alcohol  Malic_Acid         Ash  Ash_Alcanity   Magnesium  \\\n",
              "count  178.000000  178.000000  178.000000    178.000000  178.000000   \n",
              "mean    13.000618    2.336348    2.366517     19.494944   99.741573   \n",
              "std      0.811827    1.117146    0.274344      3.339564   14.282484   \n",
              "min     11.030000    0.740000    1.360000     10.600000   70.000000   \n",
              "25%     12.362500    1.602500    2.210000     17.200000   88.000000   \n",
              "50%     13.050000    1.865000    2.360000     19.500000   98.000000   \n",
              "75%     13.677500    3.082500    2.557500     21.500000  107.000000   \n",
              "max     14.830000    5.800000    3.230000     30.000000  162.000000   \n",
              "\n",
              "       Total_Phenols  Flavanoids  Nonflavanoid_Phenols  Proanthocyanins  \\\n",
              "count     178.000000  178.000000            178.000000       178.000000   \n",
              "mean        2.295112    2.029270              0.361854         1.590899   \n",
              "std         0.625851    0.998859              0.124453         0.572359   \n",
              "min         0.980000    0.340000              0.130000         0.410000   \n",
              "25%         1.742500    1.205000              0.270000         1.250000   \n",
              "50%         2.355000    2.135000              0.340000         1.555000   \n",
              "75%         2.800000    2.875000              0.437500         1.950000   \n",
              "max         3.880000    5.080000              0.660000         3.580000   \n",
              "\n",
              "       Color_Intensity         Hue       OD280      Proline  \n",
              "count       178.000000  178.000000  178.000000   178.000000  \n",
              "mean          5.058090    0.957449    2.611685   746.893258  \n",
              "std           2.318286    0.228572    0.709990   314.907474  \n",
              "min           1.280000    0.480000    1.270000   278.000000  \n",
              "25%           3.220000    0.782500    1.937500   500.500000  \n",
              "50%           4.690000    0.965000    2.780000   673.500000  \n",
              "75%           6.200000    1.120000    3.170000   985.000000  \n",
              "max          13.000000    1.710000    4.000000  1680.000000  "
            ],
            "text/html": [
              "\n",
              "  <div id=\"df-6ae58ff2-c92a-46c9-80e5-a2f44bcb4d0c\" class=\"colab-df-container\">\n",
              "    <div>\n",
              "<style scoped>\n",
              "    .dataframe tbody tr th:only-of-type {\n",
              "        vertical-align: middle;\n",
              "    }\n",
              "\n",
              "    .dataframe tbody tr th {\n",
              "        vertical-align: top;\n",
              "    }\n",
              "\n",
              "    .dataframe thead th {\n",
              "        text-align: right;\n",
              "    }\n",
              "</style>\n",
              "<table border=\"1\" class=\"dataframe\">\n",
              "  <thead>\n",
              "    <tr style=\"text-align: right;\">\n",
              "      <th></th>\n",
              "      <th>Alcohol</th>\n",
              "      <th>Malic_Acid</th>\n",
              "      <th>Ash</th>\n",
              "      <th>Ash_Alcanity</th>\n",
              "      <th>Magnesium</th>\n",
              "      <th>Total_Phenols</th>\n",
              "      <th>Flavanoids</th>\n",
              "      <th>Nonflavanoid_Phenols</th>\n",
              "      <th>Proanthocyanins</th>\n",
              "      <th>Color_Intensity</th>\n",
              "      <th>Hue</th>\n",
              "      <th>OD280</th>\n",
              "      <th>Proline</th>\n",
              "    </tr>\n",
              "  </thead>\n",
              "  <tbody>\n",
              "    <tr>\n",
              "      <th>count</th>\n",
              "      <td>178.000000</td>\n",
              "      <td>178.000000</td>\n",
              "      <td>178.000000</td>\n",
              "      <td>178.000000</td>\n",
              "      <td>178.000000</td>\n",
              "      <td>178.000000</td>\n",
              "      <td>178.000000</td>\n",
              "      <td>178.000000</td>\n",
              "      <td>178.000000</td>\n",
              "      <td>178.000000</td>\n",
              "      <td>178.000000</td>\n",
              "      <td>178.000000</td>\n",
              "      <td>178.000000</td>\n",
              "    </tr>\n",
              "    <tr>\n",
              "      <th>mean</th>\n",
              "      <td>13.000618</td>\n",
              "      <td>2.336348</td>\n",
              "      <td>2.366517</td>\n",
              "      <td>19.494944</td>\n",
              "      <td>99.741573</td>\n",
              "      <td>2.295112</td>\n",
              "      <td>2.029270</td>\n",
              "      <td>0.361854</td>\n",
              "      <td>1.590899</td>\n",
              "      <td>5.058090</td>\n",
              "      <td>0.957449</td>\n",
              "      <td>2.611685</td>\n",
              "      <td>746.893258</td>\n",
              "    </tr>\n",
              "    <tr>\n",
              "      <th>std</th>\n",
              "      <td>0.811827</td>\n",
              "      <td>1.117146</td>\n",
              "      <td>0.274344</td>\n",
              "      <td>3.339564</td>\n",
              "      <td>14.282484</td>\n",
              "      <td>0.625851</td>\n",
              "      <td>0.998859</td>\n",
              "      <td>0.124453</td>\n",
              "      <td>0.572359</td>\n",
              "      <td>2.318286</td>\n",
              "      <td>0.228572</td>\n",
              "      <td>0.709990</td>\n",
              "      <td>314.907474</td>\n",
              "    </tr>\n",
              "    <tr>\n",
              "      <th>min</th>\n",
              "      <td>11.030000</td>\n",
              "      <td>0.740000</td>\n",
              "      <td>1.360000</td>\n",
              "      <td>10.600000</td>\n",
              "      <td>70.000000</td>\n",
              "      <td>0.980000</td>\n",
              "      <td>0.340000</td>\n",
              "      <td>0.130000</td>\n",
              "      <td>0.410000</td>\n",
              "      <td>1.280000</td>\n",
              "      <td>0.480000</td>\n",
              "      <td>1.270000</td>\n",
              "      <td>278.000000</td>\n",
              "    </tr>\n",
              "    <tr>\n",
              "      <th>25%</th>\n",
              "      <td>12.362500</td>\n",
              "      <td>1.602500</td>\n",
              "      <td>2.210000</td>\n",
              "      <td>17.200000</td>\n",
              "      <td>88.000000</td>\n",
              "      <td>1.742500</td>\n",
              "      <td>1.205000</td>\n",
              "      <td>0.270000</td>\n",
              "      <td>1.250000</td>\n",
              "      <td>3.220000</td>\n",
              "      <td>0.782500</td>\n",
              "      <td>1.937500</td>\n",
              "      <td>500.500000</td>\n",
              "    </tr>\n",
              "    <tr>\n",
              "      <th>50%</th>\n",
              "      <td>13.050000</td>\n",
              "      <td>1.865000</td>\n",
              "      <td>2.360000</td>\n",
              "      <td>19.500000</td>\n",
              "      <td>98.000000</td>\n",
              "      <td>2.355000</td>\n",
              "      <td>2.135000</td>\n",
              "      <td>0.340000</td>\n",
              "      <td>1.555000</td>\n",
              "      <td>4.690000</td>\n",
              "      <td>0.965000</td>\n",
              "      <td>2.780000</td>\n",
              "      <td>673.500000</td>\n",
              "    </tr>\n",
              "    <tr>\n",
              "      <th>75%</th>\n",
              "      <td>13.677500</td>\n",
              "      <td>3.082500</td>\n",
              "      <td>2.557500</td>\n",
              "      <td>21.500000</td>\n",
              "      <td>107.000000</td>\n",
              "      <td>2.800000</td>\n",
              "      <td>2.875000</td>\n",
              "      <td>0.437500</td>\n",
              "      <td>1.950000</td>\n",
              "      <td>6.200000</td>\n",
              "      <td>1.120000</td>\n",
              "      <td>3.170000</td>\n",
              "      <td>985.000000</td>\n",
              "    </tr>\n",
              "    <tr>\n",
              "      <th>max</th>\n",
              "      <td>14.830000</td>\n",
              "      <td>5.800000</td>\n",
              "      <td>3.230000</td>\n",
              "      <td>30.000000</td>\n",
              "      <td>162.000000</td>\n",
              "      <td>3.880000</td>\n",
              "      <td>5.080000</td>\n",
              "      <td>0.660000</td>\n",
              "      <td>3.580000</td>\n",
              "      <td>13.000000</td>\n",
              "      <td>1.710000</td>\n",
              "      <td>4.000000</td>\n",
              "      <td>1680.000000</td>\n",
              "    </tr>\n",
              "  </tbody>\n",
              "</table>\n",
              "</div>\n",
              "    <div class=\"colab-df-buttons\">\n",
              "\n",
              "  <div class=\"colab-df-container\">\n",
              "    <button class=\"colab-df-convert\" onclick=\"convertToInteractive('df-6ae58ff2-c92a-46c9-80e5-a2f44bcb4d0c')\"\n",
              "            title=\"Convert this dataframe to an interactive table.\"\n",
              "            style=\"display:none;\">\n",
              "\n",
              "  <svg xmlns=\"http://www.w3.org/2000/svg\" height=\"24px\" viewBox=\"0 -960 960 960\">\n",
              "    <path d=\"M120-120v-720h720v720H120Zm60-500h600v-160H180v160Zm220 220h160v-160H400v160Zm0 220h160v-160H400v160ZM180-400h160v-160H180v160Zm440 0h160v-160H620v160ZM180-180h160v-160H180v160Zm440 0h160v-160H620v160Z\"/>\n",
              "  </svg>\n",
              "    </button>\n",
              "\n",
              "  <style>\n",
              "    .colab-df-container {\n",
              "      display:flex;\n",
              "      gap: 12px;\n",
              "    }\n",
              "\n",
              "    .colab-df-convert {\n",
              "      background-color: #E8F0FE;\n",
              "      border: none;\n",
              "      border-radius: 50%;\n",
              "      cursor: pointer;\n",
              "      display: none;\n",
              "      fill: #1967D2;\n",
              "      height: 32px;\n",
              "      padding: 0 0 0 0;\n",
              "      width: 32px;\n",
              "    }\n",
              "\n",
              "    .colab-df-convert:hover {\n",
              "      background-color: #E2EBFA;\n",
              "      box-shadow: 0px 1px 2px rgba(60, 64, 67, 0.3), 0px 1px 3px 1px rgba(60, 64, 67, 0.15);\n",
              "      fill: #174EA6;\n",
              "    }\n",
              "\n",
              "    .colab-df-buttons div {\n",
              "      margin-bottom: 4px;\n",
              "    }\n",
              "\n",
              "    [theme=dark] .colab-df-convert {\n",
              "      background-color: #3B4455;\n",
              "      fill: #D2E3FC;\n",
              "    }\n",
              "\n",
              "    [theme=dark] .colab-df-convert:hover {\n",
              "      background-color: #434B5C;\n",
              "      box-shadow: 0px 1px 3px 1px rgba(0, 0, 0, 0.15);\n",
              "      filter: drop-shadow(0px 1px 2px rgba(0, 0, 0, 0.3));\n",
              "      fill: #FFFFFF;\n",
              "    }\n",
              "  </style>\n",
              "\n",
              "    <script>\n",
              "      const buttonEl =\n",
              "        document.querySelector('#df-6ae58ff2-c92a-46c9-80e5-a2f44bcb4d0c button.colab-df-convert');\n",
              "      buttonEl.style.display =\n",
              "        google.colab.kernel.accessAllowed ? 'block' : 'none';\n",
              "\n",
              "      async function convertToInteractive(key) {\n",
              "        const element = document.querySelector('#df-6ae58ff2-c92a-46c9-80e5-a2f44bcb4d0c');\n",
              "        const dataTable =\n",
              "          await google.colab.kernel.invokeFunction('convertToInteractive',\n",
              "                                                    [key], {});\n",
              "        if (!dataTable) return;\n",
              "\n",
              "        const docLinkHtml = 'Like what you see? Visit the ' +\n",
              "          '<a target=\"_blank\" href=https://colab.research.google.com/notebooks/data_table.ipynb>data table notebook</a>'\n",
              "          + ' to learn more about interactive tables.';\n",
              "        element.innerHTML = '';\n",
              "        dataTable['output_type'] = 'display_data';\n",
              "        await google.colab.output.renderOutput(dataTable, element);\n",
              "        const docLink = document.createElement('div');\n",
              "        docLink.innerHTML = docLinkHtml;\n",
              "        element.appendChild(docLink);\n",
              "      }\n",
              "    </script>\n",
              "  </div>\n",
              "\n",
              "\n",
              "<div id=\"df-57cca984-4b6f-4f54-9a75-722b88a3acdd\">\n",
              "  <button class=\"colab-df-quickchart\" onclick=\"quickchart('df-57cca984-4b6f-4f54-9a75-722b88a3acdd')\"\n",
              "            title=\"Suggest charts\"\n",
              "            style=\"display:none;\">\n",
              "\n",
              "<svg xmlns=\"http://www.w3.org/2000/svg\" height=\"24px\"viewBox=\"0 0 24 24\"\n",
              "     width=\"24px\">\n",
              "    <g>\n",
              "        <path d=\"M19 3H5c-1.1 0-2 .9-2 2v14c0 1.1.9 2 2 2h14c1.1 0 2-.9 2-2V5c0-1.1-.9-2-2-2zM9 17H7v-7h2v7zm4 0h-2V7h2v10zm4 0h-2v-4h2v4z\"/>\n",
              "    </g>\n",
              "</svg>\n",
              "  </button>\n",
              "\n",
              "<style>\n",
              "  .colab-df-quickchart {\n",
              "      --bg-color: #E8F0FE;\n",
              "      --fill-color: #1967D2;\n",
              "      --hover-bg-color: #E2EBFA;\n",
              "      --hover-fill-color: #174EA6;\n",
              "      --disabled-fill-color: #AAA;\n",
              "      --disabled-bg-color: #DDD;\n",
              "  }\n",
              "\n",
              "  [theme=dark] .colab-df-quickchart {\n",
              "      --bg-color: #3B4455;\n",
              "      --fill-color: #D2E3FC;\n",
              "      --hover-bg-color: #434B5C;\n",
              "      --hover-fill-color: #FFFFFF;\n",
              "      --disabled-bg-color: #3B4455;\n",
              "      --disabled-fill-color: #666;\n",
              "  }\n",
              "\n",
              "  .colab-df-quickchart {\n",
              "    background-color: var(--bg-color);\n",
              "    border: none;\n",
              "    border-radius: 50%;\n",
              "    cursor: pointer;\n",
              "    display: none;\n",
              "    fill: var(--fill-color);\n",
              "    height: 32px;\n",
              "    padding: 0;\n",
              "    width: 32px;\n",
              "  }\n",
              "\n",
              "  .colab-df-quickchart:hover {\n",
              "    background-color: var(--hover-bg-color);\n",
              "    box-shadow: 0 1px 2px rgba(60, 64, 67, 0.3), 0 1px 3px 1px rgba(60, 64, 67, 0.15);\n",
              "    fill: var(--button-hover-fill-color);\n",
              "  }\n",
              "\n",
              "  .colab-df-quickchart-complete:disabled,\n",
              "  .colab-df-quickchart-complete:disabled:hover {\n",
              "    background-color: var(--disabled-bg-color);\n",
              "    fill: var(--disabled-fill-color);\n",
              "    box-shadow: none;\n",
              "  }\n",
              "\n",
              "  .colab-df-spinner {\n",
              "    border: 2px solid var(--fill-color);\n",
              "    border-color: transparent;\n",
              "    border-bottom-color: var(--fill-color);\n",
              "    animation:\n",
              "      spin 1s steps(1) infinite;\n",
              "  }\n",
              "\n",
              "  @keyframes spin {\n",
              "    0% {\n",
              "      border-color: transparent;\n",
              "      border-bottom-color: var(--fill-color);\n",
              "      border-left-color: var(--fill-color);\n",
              "    }\n",
              "    20% {\n",
              "      border-color: transparent;\n",
              "      border-left-color: var(--fill-color);\n",
              "      border-top-color: var(--fill-color);\n",
              "    }\n",
              "    30% {\n",
              "      border-color: transparent;\n",
              "      border-left-color: var(--fill-color);\n",
              "      border-top-color: var(--fill-color);\n",
              "      border-right-color: var(--fill-color);\n",
              "    }\n",
              "    40% {\n",
              "      border-color: transparent;\n",
              "      border-right-color: var(--fill-color);\n",
              "      border-top-color: var(--fill-color);\n",
              "    }\n",
              "    60% {\n",
              "      border-color: transparent;\n",
              "      border-right-color: var(--fill-color);\n",
              "    }\n",
              "    80% {\n",
              "      border-color: transparent;\n",
              "      border-right-color: var(--fill-color);\n",
              "      border-bottom-color: var(--fill-color);\n",
              "    }\n",
              "    90% {\n",
              "      border-color: transparent;\n",
              "      border-bottom-color: var(--fill-color);\n",
              "    }\n",
              "  }\n",
              "</style>\n",
              "\n",
              "  <script>\n",
              "    async function quickchart(key) {\n",
              "      const quickchartButtonEl =\n",
              "        document.querySelector('#' + key + ' button');\n",
              "      quickchartButtonEl.disabled = true;  // To prevent multiple clicks.\n",
              "      quickchartButtonEl.classList.add('colab-df-spinner');\n",
              "      try {\n",
              "        const charts = await google.colab.kernel.invokeFunction(\n",
              "            'suggestCharts', [key], {});\n",
              "      } catch (error) {\n",
              "        console.error('Error during call to suggestCharts:', error);\n",
              "      }\n",
              "      quickchartButtonEl.classList.remove('colab-df-spinner');\n",
              "      quickchartButtonEl.classList.add('colab-df-quickchart-complete');\n",
              "    }\n",
              "    (() => {\n",
              "      let quickchartButtonEl =\n",
              "        document.querySelector('#df-57cca984-4b6f-4f54-9a75-722b88a3acdd button');\n",
              "      quickchartButtonEl.style.display =\n",
              "        google.colab.kernel.accessAllowed ? 'block' : 'none';\n",
              "    })();\n",
              "  </script>\n",
              "</div>\n",
              "    </div>\n",
              "  </div>\n"
            ]
          },
          "metadata": {},
          "execution_count": 5
        }
      ]
    },
    {
      "cell_type": "code",
      "source": [
        "data.columns"
      ],
      "metadata": {
        "colab": {
          "base_uri": "https://localhost:8080/"
        },
        "id": "Xcq-HnwoweLM",
        "outputId": "8766100c-42de-41a1-d42c-b291dc031b6e"
      },
      "execution_count": null,
      "outputs": [
        {
          "output_type": "execute_result",
          "data": {
            "text/plain": [
              "Index(['Alcohol', 'Malic_Acid', 'Ash', 'Ash_Alcanity', 'Magnesium',\n",
              "       'Total_Phenols', 'Flavanoids', 'Nonflavanoid_Phenols',\n",
              "       'Proanthocyanins', 'Color_Intensity', 'Hue', 'OD280', 'Proline'],\n",
              "      dtype='object')"
            ]
          },
          "metadata": {},
          "execution_count": 6
        }
      ]
    },
    {
      "cell_type": "markdown",
      "source": [
        "### Preprocessing"
      ],
      "metadata": {
        "id": "jL6urZwUMnl1"
      }
    },
    {
      "cell_type": "code",
      "source": [
        "num_col = ['Alcohol', 'Malic_Acid', 'Ash', 'Ash_Alcanity', 'Magnesium',\n",
        "       'Total_Phenols', 'Flavanoids', 'Nonflavanoid_Phenols',\n",
        "       'Proanthocyanins', 'Color_Intensity', 'Hue', 'OD280', 'Proline']\n",
        "for i in num_col:\n",
        "  plt.figure()\n",
        "  plt.boxplot(data[i])\n",
        "  plt.title(i)"
      ],
      "metadata": {
        "colab": {
          "base_uri": "https://localhost:8080/",
          "height": 1000
        },
        "id": "6lZuJrcOwkQd",
        "outputId": "5e17ca4e-c502-4279-f147-c599f95356c5"
      },
      "execution_count": null,
      "outputs": [
        {
          "output_type": "display_data",
          "data": {
            "text/plain": [
              "<Figure size 640x480 with 1 Axes>"
            ],
            "image/png": "[encoded data removed]"
          },
          "metadata": {}
        },
        {
          "output_type": "display_data",
          "data": {
            "text/plain": [
              "<Figure size 640x480 with 1 Axes>"
            ],
            "image/png": "[encoded data removed]"
          },
          "metadata": {}
        },
        {
          "output_type": "display_data",
          "data": {
            "text/plain": [
              "<Figure size 640x480 with 1 Axes>"
            ],
            "image/png": "[encoded data removed]"
          },
          "metadata": {}
        },
        {
          "output_type": "display_data",
          "data": {
            "text/plain": [
              "<Figure size 640x480 with 1 Axes>"
            ],
            "image/png": "[encoded data removed]"
          },
          "metadata": {}
        },
        {
          "output_type": "display_data",
          "data": {
            "text/plain": [
              "<Figure size 640x480 with 1 Axes>"
            ],
            "image/png": "[encoded data removed]"
          },
          "metadata": {}
        },
        {
          "output_type": "display_data",
          "data": {
            "text/plain": [
              "<Figure size 640x480 with 1 Axes>"
            ],
            "image/png": "[encoded data removed]"
          },
          "metadata": {}
        },
        {
          "output_type": "display_data",
          "data": {
            "text/plain": [
              "<Figure size 640x480 with 1 Axes>"
            ],
            "image/png": "[encoded data removed]"
          },
          "metadata": {}
        },
        {
          "output_type": "display_data",
          "data": {
            "text/plain": [
              "<Figure size 640x480 with 1 Axes>"
            ],
            "image/png": "[encoded data removed]"
          },
          "metadata": {}
        },
        {
          "output_type": "display_data",
          "data": {
            "text/plain": [
              "<Figure size 640x480 with 1 Axes>"
            ],
            "image/png": "[encoded data removed]"
          },
          "metadata": {}
        },
        {
          "output_type": "display_data",
          "data": {
            "text/plain": [
              "<Figure size 640x480 with 1 Axes>"
            ],
            "image/png": "[encoded data removed]"
          },
          "metadata": {}
        },
        {
          "output_type": "display_data",
          "data": {
            "text/plain": [
              "<Figure size 640x480 with 1 Axes>"
            ],
            "image/png": "[encoded data removed]"
          },
          "metadata": {}
        },
        {
          "output_type": "display_data",
          "data": {
            "text/plain": [
              "<Figure size 640x480 with 1 Axes>"
            ],
            "image/png": "[encoded data removed]"
          },
          "metadata": {}
        },
        {
          "output_type": "display_data",
          "data": {
            "text/plain": [
              "<Figure size 640x480 with 1 Axes>"
            ],
            "image/png": "[encoded data removed]"
          },
          "metadata": {}
        }
      ]
    },
    {
      "cell_type": "code",
      "source": [
        "Q1 = np.percentile(data[\"Malic_Acid\"],25,method= 'midpoint')\n",
        "Q2 = np.percentile(data[\"Malic_Acid\"],50,method= 'midpoint')\n",
        "Q3 = np.percentile(data[\"Malic_Acid\"],75,method= 'midpoint')"
      ],
      "metadata": {
        "id": "OwQ51p9I1YIA"
      },
      "execution_count": null,
      "outputs": []
    },
    {
      "cell_type": "code",
      "source": [
        "print(\"q1 is\",Q1)\n",
        "print(\"q2 is\",Q2)\n",
        "print(\"q3 is\",Q3)"
      ],
      "metadata": {
        "colab": {
          "base_uri": "https://localhost:8080/"
        },
        "id": "Azd6jIfT1kz5",
        "outputId": "09b1ffe7-efd3-4d0f-8316-370566cb976c"
      },
      "execution_count": null,
      "outputs": [
        {
          "output_type": "stream",
          "name": "stdout",
          "text": [
            "q1 is 1.605\n",
            "q2 is 1.8650000000000002\n",
            "q3 is 3.065\n"
          ]
        }
      ]
    },
    {
      "cell_type": "code",
      "source": [
        "IQR = Q3-Q1\n",
        "low_lim = Q1-1.5*IQR\n",
        "up_lim = Q3+1.5*IQR\n",
        "print(\"min is\",low_lim)\n",
        "print(\"max is\",up_lim)"
      ],
      "metadata": {
        "colab": {
          "base_uri": "https://localhost:8080/"
        },
        "id": "cmYT4KD-1lCB",
        "outputId": "7e064910-78f3-4204-b2b4-b56756b08535"
      },
      "execution_count": null,
      "outputs": [
        {
          "output_type": "stream",
          "name": "stdout",
          "text": [
            "min is -0.585\n",
            "max is 5.255\n"
          ]
        }
      ]
    },
    {
      "cell_type": "code",
      "source": [
        "outlier = []\n",
        "for x in data[\"Malic_Acid\"]:\n",
        " if((x>up_lim)or(x<low_lim)):\n",
        "  outlier.append(x)\n",
        "outlier"
      ],
      "metadata": {
        "colab": {
          "base_uri": "https://localhost:8080/"
        },
        "id": "xT8RsvrG1lLh",
        "outputId": "0485a11a-e735-4197-ec10-64ae2fce57ca"
      },
      "execution_count": null,
      "outputs": [
        {
          "output_type": "execute_result",
          "data": {
            "text/plain": [
              "[5.8, 5.51, 5.65]"
            ]
          },
          "metadata": {},
          "execution_count": 11
        }
      ]
    },
    {
      "cell_type": "code",
      "source": [
        "ind1 = data[\"Malic_Acid\"]>up_lim\n",
        "data.loc[ind1].index"
      ],
      "metadata": {
        "colab": {
          "base_uri": "https://localhost:8080/"
        },
        "id": "pV4Ymues10Fb",
        "outputId": "46ef92a1-8f55-4a43-f936-48eb671e4f78"
      },
      "execution_count": null,
      "outputs": [
        {
          "output_type": "execute_result",
          "data": {
            "text/plain": [
              "Int64Index([123, 137, 173], dtype='int64')"
            ]
          },
          "metadata": {},
          "execution_count": 12
        }
      ]
    },
    {
      "cell_type": "code",
      "source": [
        "data.drop([123,137,173],inplace= True)"
      ],
      "metadata": {
        "id": "jFjdtQU-15VC"
      },
      "execution_count": null,
      "outputs": []
    },
    {
      "cell_type": "code",
      "source": [
        "Q1 = np.percentile(data[\"Ash\"],25,method= 'midpoint')\n",
        "Q2 = np.percentile(data[\"Ash\"],50,method= 'midpoint')\n",
        "Q3 = np.percentile(data[\"Ash\"],75,method= 'midpoint')"
      ],
      "metadata": {
        "id": "07mXtFp0DJgk"
      },
      "execution_count": null,
      "outputs": []
    },
    {
      "cell_type": "code",
      "source": [
        "print(\"q1 is\",Q1)\n",
        "print(\"q2 is\",Q2)\n",
        "print(\"q3 is\",Q3)"
      ],
      "metadata": {
        "colab": {
          "base_uri": "https://localhost:8080/"
        },
        "id": "mi7ibi8EygIN",
        "outputId": "8c337e62-08b7-4827-d890-e13a618ba41f"
      },
      "execution_count": null,
      "outputs": [
        {
          "output_type": "stream",
          "name": "stdout",
          "text": [
            "q1 is 2.21\n",
            "q2 is 2.36\n",
            "q3 is 2.5549999999999997\n"
          ]
        }
      ]
    },
    {
      "cell_type": "code",
      "source": [
        "IQR = Q3-Q1\n",
        "low_lim = Q1-1.5*IQR\n",
        "up_lim = Q3+1.5*IQR\n",
        "print(\"min is\",low_lim)\n",
        "print(\"max is\",up_lim)"
      ],
      "metadata": {
        "colab": {
          "base_uri": "https://localhost:8080/"
        },
        "id": "cvA1uNY6ying",
        "outputId": "5c5fae8f-ee62-4bd2-ca2f-c8f0634d508c"
      },
      "execution_count": null,
      "outputs": [
        {
          "output_type": "stream",
          "name": "stdout",
          "text": [
            "min is 1.6925000000000003\n",
            "max is 3.0724999999999993\n"
          ]
        }
      ]
    },
    {
      "cell_type": "code",
      "source": [
        "outlier = []\n",
        "for x in data[\"Ash\"]:\n",
        " if((x>up_lim)or(x<low_lim)):\n",
        "  outlier.append(x)\n",
        "outlier\n"
      ],
      "metadata": {
        "colab": {
          "base_uri": "https://localhost:8080/"
        },
        "id": "sG8rMSydylne",
        "outputId": "c2eb06c2-8ad3-42c7-e56f-337f0ba0abd0"
      },
      "execution_count": null,
      "outputs": [
        {
          "output_type": "execute_result",
          "data": {
            "text/plain": [
              "[3.22, 1.36, 3.23]"
            ]
          },
          "metadata": {},
          "execution_count": 17
        }
      ]
    },
    {
      "cell_type": "code",
      "source": [
        "ind1 = data[\"Ash\"]>up_lim\n",
        "data.loc[ind1].index"
      ],
      "metadata": {
        "colab": {
          "base_uri": "https://localhost:8080/"
        },
        "id": "fkkVHjEnypm2",
        "outputId": "10d5f118-910c-4e42-fe78-b4efabde8e1a"
      },
      "execution_count": null,
      "outputs": [
        {
          "output_type": "execute_result",
          "data": {
            "text/plain": [
              "Int64Index([25, 121], dtype='int64')"
            ]
          },
          "metadata": {},
          "execution_count": 18
        }
      ]
    },
    {
      "cell_type": "code",
      "source": [
        "ind1 = data[\"Ash\"]<low_lim\n",
        "data.loc[ind1].index"
      ],
      "metadata": {
        "colab": {
          "base_uri": "https://localhost:8080/"
        },
        "id": "58GDpJK3yvgn",
        "outputId": "895f24df-1fe2-415c-c5a2-2d97f47cb9e5"
      },
      "execution_count": null,
      "outputs": [
        {
          "output_type": "execute_result",
          "data": {
            "text/plain": [
              "Int64Index([59], dtype='int64')"
            ]
          },
          "metadata": {},
          "execution_count": 19
        }
      ]
    },
    {
      "cell_type": "code",
      "source": [
        "data.drop([25,121,59],inplace= True)"
      ],
      "metadata": {
        "id": "JJcWbl1pyy88"
      },
      "execution_count": null,
      "outputs": []
    },
    {
      "cell_type": "code",
      "source": [
        "Q1 = np.percentile(data[\"Ash_Alcanity\"],25,method= 'midpoint')\n",
        "Q2 = np.percentile(data[\"Ash_Alcanity\"],50,method= 'midpoint')\n",
        "Q3 = np.percentile(data[\"Ash_Alcanity\"],75,method= 'midpoint')"
      ],
      "metadata": {
        "id": "QLnPvCjay7sD"
      },
      "execution_count": null,
      "outputs": []
    },
    {
      "cell_type": "code",
      "source": [
        "print(\"q1 is\",Q1)\n",
        "print(\"q2 is\",Q2)\n",
        "print(\"q3 is\",Q3)"
      ],
      "metadata": {
        "colab": {
          "base_uri": "https://localhost:8080/"
        },
        "id": "N0YHiUifzSrp",
        "outputId": "582df35b-5378-44ce-9a1b-43caaecfb460"
      },
      "execution_count": null,
      "outputs": [
        {
          "output_type": "stream",
          "name": "stdout",
          "text": [
            "q1 is 17.15\n",
            "q2 is 19.25\n",
            "q3 is 21.5\n"
          ]
        }
      ]
    },
    {
      "cell_type": "code",
      "source": [
        "IQR = Q3-Q1\n",
        "low_lim = Q1-1.5*IQR\n",
        "up_lim = Q3+1.5*IQR\n",
        "print(\"min is\",low_lim)\n",
        "print(\"max is\",up_lim)"
      ],
      "metadata": {
        "colab": {
          "base_uri": "https://localhost:8080/"
        },
        "id": "nSlttC1jzU5q",
        "outputId": "2f104c68-406e-4108-c70a-a27e0c50e3c3"
      },
      "execution_count": null,
      "outputs": [
        {
          "output_type": "stream",
          "name": "stdout",
          "text": [
            "min is 10.624999999999996\n",
            "max is 28.025000000000002\n"
          ]
        }
      ]
    },
    {
      "cell_type": "code",
      "source": [
        "outlier = []\n",
        "for x in data[\"Ash_Alcanity\"]:\n",
        " if((x>up_lim)or(x<low_lim)):\n",
        "  outlier.append(x)\n",
        "outlier"
      ],
      "metadata": {
        "colab": {
          "base_uri": "https://localhost:8080/"
        },
        "id": "ubIgoqOWzYRa",
        "outputId": "3c18fd06-10c0-4a35-ede0-9f24e80d60cf"
      },
      "execution_count": null,
      "outputs": [
        {
          "output_type": "execute_result",
          "data": {
            "text/plain": [
              "[30.0, 28.5]"
            ]
          },
          "metadata": {},
          "execution_count": 24
        }
      ]
    },
    {
      "cell_type": "code",
      "source": [
        "ind1 = data[\"Ash_Alcanity\"]>up_lim\n",
        "data.loc[ind1].index"
      ],
      "metadata": {
        "colab": {
          "base_uri": "https://localhost:8080/"
        },
        "id": "U7E6IcruzeyA",
        "outputId": "972371e8-5765-4d34-bfe7-02f17615ce68"
      },
      "execution_count": null,
      "outputs": [
        {
          "output_type": "execute_result",
          "data": {
            "text/plain": [
              "Int64Index([73, 127], dtype='int64')"
            ]
          },
          "metadata": {},
          "execution_count": 25
        }
      ]
    },
    {
      "cell_type": "code",
      "source": [
        "data.drop([73,127],inplace= True)\n"
      ],
      "metadata": {
        "id": "zpyzN2RlzmvS"
      },
      "execution_count": null,
      "outputs": []
    },
    {
      "cell_type": "code",
      "source": [
        "Q1 = np.percentile(data[\"Magnesium\"],25,method= 'midpoint')\n",
        "Q2 = np.percentile(data[\"Magnesium\"],50,method= 'midpoint')\n",
        "Q3 = np.percentile(data[\"Magnesium\"],75,method= 'midpoint')"
      ],
      "metadata": {
        "id": "G1pS2MJf2iXm"
      },
      "execution_count": null,
      "outputs": []
    },
    {
      "cell_type": "code",
      "source": [
        "print(\"q1 is\",Q1)\n",
        "print(\"q2 is\",Q2)\n",
        "print(\"q3 is\",Q3)"
      ],
      "metadata": {
        "colab": {
          "base_uri": "https://localhost:8080/"
        },
        "id": "zC8huTz62ia4",
        "outputId": "0684be3d-15ad-49d3-ed42-aa206837b656"
      },
      "execution_count": null,
      "outputs": [
        {
          "output_type": "stream",
          "name": "stdout",
          "text": [
            "q1 is 88.0\n",
            "q2 is 98.0\n",
            "q3 is 107.0\n"
          ]
        }
      ]
    },
    {
      "cell_type": "code",
      "source": [
        "IQR = Q3-Q1\n",
        "low_lim = Q1-1.5*IQR\n",
        "up_lim = Q3+1.5*IQR\n",
        "print(\"min is\",low_lim)\n",
        "print(\"max is\",up_lim)"
      ],
      "metadata": {
        "colab": {
          "base_uri": "https://localhost:8080/"
        },
        "id": "AjGZiRQh2ieT",
        "outputId": "658c4de8-5fbc-45ea-c2af-47c91a3f7fbc"
      },
      "execution_count": null,
      "outputs": [
        {
          "output_type": "stream",
          "name": "stdout",
          "text": [
            "min is 59.5\n",
            "max is 135.5\n"
          ]
        }
      ]
    },
    {
      "cell_type": "code",
      "source": [
        "outlier = []\n",
        "for x in data[\"Magnesium\"]:\n",
        " if((x>up_lim)or(x<low_lim)):\n",
        "  outlier.append(x)\n",
        "outlier"
      ],
      "metadata": {
        "colab": {
          "base_uri": "https://localhost:8080/"
        },
        "id": "tSSxLUZ32ihj",
        "outputId": "4d100f11-bda0-43af-c182-a046c78c09ca"
      },
      "execution_count": null,
      "outputs": [
        {
          "output_type": "execute_result",
          "data": {
            "text/plain": [
              "[151, 136, 162]"
            ]
          },
          "metadata": {},
          "execution_count": 30
        }
      ]
    },
    {
      "cell_type": "code",
      "source": [
        "ind1 = data[\"Magnesium\"]>up_lim\n",
        "data.loc[ind1].index"
      ],
      "metadata": {
        "colab": {
          "base_uri": "https://localhost:8080/"
        },
        "id": "DN2Npu3f2ikm",
        "outputId": "3a2cdb6b-c035-44a2-9ec1-1e5ffeb495e7"
      },
      "execution_count": null,
      "outputs": [
        {
          "output_type": "execute_result",
          "data": {
            "text/plain": [
              "Int64Index([69, 78, 95], dtype='int64')"
            ]
          },
          "metadata": {},
          "execution_count": 31
        }
      ]
    },
    {
      "cell_type": "code",
      "source": [
        "data.drop([69,78,95],inplace=True)"
      ],
      "metadata": {
        "id": "YCJfnu9r2inY"
      },
      "execution_count": null,
      "outputs": []
    },
    {
      "cell_type": "code",
      "source": [
        "Q1 = np.percentile(data[\"Proanthocyanins\"],25,method= 'midpoint')\n",
        "Q2 = np.percentile(data[\"Proanthocyanins\"],50,method= 'midpoint')\n",
        "Q3 = np.percentile(data[\"Proanthocyanins\"],75,method= 'midpoint')"
      ],
      "metadata": {
        "id": "jOAbdQBV2iqf"
      },
      "execution_count": null,
      "outputs": []
    },
    {
      "cell_type": "code",
      "source": [
        "print(\"q1 is\",Q1)\n",
        "print(\"q2 is\",Q2)\n",
        "print(\"q3 is\",Q3)"
      ],
      "metadata": {
        "colab": {
          "base_uri": "https://localhost:8080/"
        },
        "id": "ZkbKZqSi2itP",
        "outputId": "116f18cd-2d54-4f8f-ad6a-9f48a69544d9"
      },
      "execution_count": null,
      "outputs": [
        {
          "output_type": "stream",
          "name": "stdout",
          "text": [
            "q1 is 1.25\n",
            "q2 is 1.54\n",
            "q3 is 1.9249999999999998\n"
          ]
        }
      ]
    },
    {
      "cell_type": "code",
      "source": [
        "IQR = Q3-Q1\n",
        "low_lim = Q1-1.5*IQR\n",
        "up_lim = Q3+1.5*IQR\n",
        "print(\"min is\",low_lim)\n",
        "print(\"max is\",up_lim)"
      ],
      "metadata": {
        "colab": {
          "base_uri": "https://localhost:8080/"
        },
        "id": "jsh_rV6342hJ",
        "outputId": "72db8bb6-3332-4df4-ddf2-e1b882dc2925"
      },
      "execution_count": null,
      "outputs": [
        {
          "output_type": "stream",
          "name": "stdout",
          "text": [
            "min is 0.23750000000000027\n",
            "max is 2.9374999999999996\n"
          ]
        }
      ]
    },
    {
      "cell_type": "code",
      "source": [
        "outlier = []\n",
        "for x in data[\"Proanthocyanins\"]:\n",
        " if((x>up_lim)or(x<low_lim)):\n",
        "  outlier.append(x)\n",
        "outlier"
      ],
      "metadata": {
        "colab": {
          "base_uri": "https://localhost:8080/"
        },
        "id": "uDmW7WQB2iyn",
        "outputId": "753383ff-15e6-4b97-99d6-8888d74951eb"
      },
      "execution_count": null,
      "outputs": [
        {
          "output_type": "execute_result",
          "data": {
            "text/plain": [
              "[2.96, 3.58]"
            ]
          },
          "metadata": {},
          "execution_count": 36
        }
      ]
    },
    {
      "cell_type": "code",
      "source": [
        "ind1 = data[\"Proanthocyanins\"]>up_lim\n",
        "data.loc[ind1].index"
      ],
      "metadata": {
        "colab": {
          "base_uri": "https://localhost:8080/"
        },
        "id": "we8Bkppq2i1O",
        "outputId": "e421833b-6fac-4d86-f0cb-1f3f15a27880"
      },
      "execution_count": null,
      "outputs": [
        {
          "output_type": "execute_result",
          "data": {
            "text/plain": [
              "Int64Index([14, 110], dtype='int64')"
            ]
          },
          "metadata": {},
          "execution_count": 37
        }
      ]
    },
    {
      "cell_type": "code",
      "source": [
        "data.drop([14,110],inplace=True)"
      ],
      "metadata": {
        "id": "gTFUV7wN4QG9"
      },
      "execution_count": null,
      "outputs": []
    },
    {
      "cell_type": "code",
      "source": [
        "Q1 = np.percentile(data[\"Color_Intensity\"],25,method= 'midpoint')\n",
        "Q2 = np.percentile(data[\"Color_Intensity\"],50,method= 'midpoint')\n",
        "Q3 = np.percentile(data[\"Color_Intensity\"],75,method= 'midpoint')"
      ],
      "metadata": {
        "id": "x-_GmY-84jfH"
      },
      "execution_count": null,
      "outputs": []
    },
    {
      "cell_type": "code",
      "source": [
        "print(\"q1 is\",Q1)\n",
        "print(\"q2 is\",Q2)\n",
        "print(\"q3 is\",Q3)"
      ],
      "metadata": {
        "colab": {
          "base_uri": "https://localhost:8080/"
        },
        "id": "zib-P2_j4jhg",
        "outputId": "933a64e5-7d1a-44f6-96d6-005737e265f0"
      },
      "execution_count": null,
      "outputs": [
        {
          "output_type": "stream",
          "name": "stdout",
          "text": [
            "q1 is 3.27\n",
            "q2 is 4.8\n",
            "q3 is 6.25\n"
          ]
        }
      ]
    },
    {
      "cell_type": "code",
      "source": [
        "IQR = Q3-Q1\n",
        "low_lim = Q1-1.5*IQR\n",
        "up_lim = Q3+1.5*IQR\n",
        "print(\"min is\",low_lim)\n",
        "print(\"max is\",up_lim)"
      ],
      "metadata": {
        "colab": {
          "base_uri": "https://localhost:8080/"
        },
        "id": "pJ85mmns4jkJ",
        "outputId": "c5ec7580-282f-4027-870f-3ac0eef47208"
      },
      "execution_count": null,
      "outputs": [
        {
          "output_type": "stream",
          "name": "stdout",
          "text": [
            "min is -1.1999999999999997\n",
            "max is 10.719999999999999\n"
          ]
        }
      ]
    },
    {
      "cell_type": "code",
      "source": [
        "outlier = []\n",
        "for x in data[\"Color_Intensity\"]:\n",
        " if((x>up_lim)or(x<low_lim)):\n",
        "  outlier.append(x)\n",
        "outlier"
      ],
      "metadata": {
        "colab": {
          "base_uri": "https://localhost:8080/"
        },
        "id": "-3GUAHOV4jmn",
        "outputId": "63ba7514-3ba7-407d-f98c-82534e7c2ee8"
      },
      "execution_count": null,
      "outputs": [
        {
          "output_type": "execute_result",
          "data": {
            "text/plain": [
              "[10.8, 13.0, 11.75]"
            ]
          },
          "metadata": {},
          "execution_count": 42
        }
      ]
    },
    {
      "cell_type": "code",
      "source": [
        "ind1 = data[\"Color_Intensity\"]>up_lim\n",
        "data.loc[ind1].index"
      ],
      "metadata": {
        "colab": {
          "base_uri": "https://localhost:8080/"
        },
        "id": "g9pXJYZa4jpq",
        "outputId": "c53eda71-f830-441d-9a17-09a0055ffea4"
      },
      "execution_count": null,
      "outputs": [
        {
          "output_type": "execute_result",
          "data": {
            "text/plain": [
              "Int64Index([151, 158, 159], dtype='int64')"
            ]
          },
          "metadata": {},
          "execution_count": 43
        }
      ]
    },
    {
      "cell_type": "code",
      "source": [
        "data.drop([151,158,159],inplace=True)"
      ],
      "metadata": {
        "id": "kg-x1Yr14jsH"
      },
      "execution_count": null,
      "outputs": []
    },
    {
      "cell_type": "code",
      "source": [
        "Q1 = np.percentile(data[\"Hue\"],25,method= 'midpoint')\n",
        "Q2 = np.percentile(data[\"Hue\"],50,method= 'midpoint')\n",
        "Q3 = np.percentile(data[\"Hue\"],75,method= 'midpoint')"
      ],
      "metadata": {
        "id": "85GMYq2M4jvb"
      },
      "execution_count": null,
      "outputs": []
    },
    {
      "cell_type": "code",
      "source": [
        "print(\"q1 is\",Q1)\n",
        "print(\"q2 is\",Q2)\n",
        "print(\"q3 is\",Q3)"
      ],
      "metadata": {
        "colab": {
          "base_uri": "https://localhost:8080/"
        },
        "id": "I49pKkFr4j3o",
        "outputId": "da4f6c12-20f9-4f0b-bdbc-c4f6549473ba"
      },
      "execution_count": null,
      "outputs": [
        {
          "output_type": "stream",
          "name": "stdout",
          "text": [
            "q1 is 0.795\n",
            "q2 is 0.97\n",
            "q3 is 1.12\n"
          ]
        }
      ]
    },
    {
      "cell_type": "code",
      "source": [
        "IQR = Q3-Q1\n",
        "low_lim = Q1-1.5*IQR\n",
        "up_lim = Q3+1.5*IQR\n",
        "print(\"min is\",low_lim)\n",
        "print(\"max is\",up_lim)"
      ],
      "metadata": {
        "colab": {
          "base_uri": "https://localhost:8080/"
        },
        "id": "MCQp_n3J6ZSe",
        "outputId": "204c7b42-9a56-4f72-c59c-40636eed91c7"
      },
      "execution_count": null,
      "outputs": [
        {
          "output_type": "stream",
          "name": "stdout",
          "text": [
            "min is 0.30749999999999994\n",
            "max is 1.6075000000000002\n"
          ]
        }
      ]
    },
    {
      "cell_type": "code",
      "source": [
        "outlier = []\n",
        "for x in data[\"Hue\"]:\n",
        " if((x>up_lim)or(x<low_lim)):\n",
        "  outlier.append(x)\n",
        "outlier"
      ],
      "metadata": {
        "colab": {
          "base_uri": "https://localhost:8080/"
        },
        "id": "QuClWZ4L6ZZ-",
        "outputId": "bcc2204a-868c-43ce-a2fb-8ca9871063d5"
      },
      "execution_count": null,
      "outputs": [
        {
          "output_type": "execute_result",
          "data": {
            "text/plain": [
              "[1.71]"
            ]
          },
          "metadata": {},
          "execution_count": 48
        }
      ]
    },
    {
      "cell_type": "code",
      "source": [
        "ind1 = data[\"Hue\"]>up_lim\n",
        "data.loc[ind1].index"
      ],
      "metadata": {
        "colab": {
          "base_uri": "https://localhost:8080/"
        },
        "id": "jOftQu7B6Zf2",
        "outputId": "be229639-9c4c-4ba3-f5b9-35f5ec63c48b"
      },
      "execution_count": null,
      "outputs": [
        {
          "output_type": "execute_result",
          "data": {
            "text/plain": [
              "Int64Index([115], dtype='int64')"
            ]
          },
          "metadata": {},
          "execution_count": 49
        }
      ]
    },
    {
      "cell_type": "code",
      "source": [
        "for i in num_col:\n",
        "  plt.figure()\n",
        "  plt.boxplot(data[i])\n",
        "  plt.title(i)"
      ],
      "metadata": {
        "colab": {
          "base_uri": "https://localhost:8080/",
          "height": 1000
        },
        "id": "bf--nj1T0GEZ",
        "outputId": "b7e75d20-6e0b-4c7a-d04b-0dd9280442ae"
      },
      "execution_count": null,
      "outputs": [
        {
          "output_type": "display_data",
          "data": {
            "text/plain": [
              "<Figure size 640x480 with 1 Axes>"
            ],
            "image/png": "[encoded data removed]"
          },
          "metadata": {}
        },
        {
          "output_type": "display_data",
          "data": {
            "text/plain": [
              "<Figure size 640x480 with 1 Axes>"
            ],
            "image/png": "[encoded data removed]"
          },
          "metadata": {}
        },
        {
          "output_type": "display_data",
          "data": {
            "text/plain": [
              "<Figure size 640x480 with 1 Axes>"
            ],
            "image/png": "[encoded data removed]"
          },
          "metadata": {}
        },
        {
          "output_type": "display_data",
          "data": {
            "text/plain": [
              "<Figure size 640x480 with 1 Axes>"
            ],
            "image/png": "[encoded data removed]"
          },
          "metadata": {}
        },
        {
          "output_type": "display_data",
          "data": {
            "text/plain": [
              "<Figure size 640x480 with 1 Axes>"
            ],
            "image/png": "[encoded data removed]"
          },
          "metadata": {}
        },
        {
          "output_type": "display_data",
          "data": {
            "text/plain": [
              "<Figure size 640x480 with 1 Axes>"
            ],
            "image/png": "[encoded data removed]"
          },
          "metadata": {}
        },
        {
          "output_type": "display_data",
          "data": {
            "text/plain": [
              "<Figure size 640x480 with 1 Axes>"
            ],
            "image/png": "[encoded data removed]"
          },
          "metadata": {}
        },
        {
          "output_type": "display_data",
          "data": {
            "text/plain": [
              "<Figure size 640x480 with 1 Axes>"
            ],
            "image/png": "[encoded data removed]"
          },
          "metadata": {}
        },
        {
          "output_type": "display_data",
          "data": {
            "text/plain": [
              "<Figure size 640x480 with 1 Axes>"
            ],
            "image/png": "[encoded data removed]"
          },
          "metadata": {}
        },
        {
          "output_type": "display_data",
          "data": {
            "text/plain": [
              "<Figure size 640x480 with 1 Axes>"
            ],
            "image/png": "[encoded data removed]"
          },
          "metadata": {}
        },
        {
          "output_type": "display_data",
          "data": {
            "text/plain": [
              "<Figure size 640x480 with 1 Axes>"
            ],
            "image/png": "[encoded data removed]"
          },
          "metadata": {}
        },
        {
          "output_type": "display_data",
          "data": {
            "text/plain": [
              "<Figure size 640x480 with 1 Axes>"
            ],
            "image/png": "[encoded data removed]"
          },
          "metadata": {}
        },
        {
          "output_type": "display_data",
          "data": {
            "text/plain": [
              "<Figure size 640x480 with 1 Axes>"
            ],
            "image/png": "[encoded data removed]"
          },
          "metadata": {}
        }
      ]
    },
    {
      "cell_type": "markdown",
      "source": [
        "### KMeans"
      ],
      "metadata": {
        "id": "2PMahqIiKYM-"
      }
    },
    {
      "cell_type": "code",
      "source": [
        "X = data[['Alcohol', 'Malic_Acid', 'Ash', 'Ash_Alcanity', 'Magnesium','Total_Phenols', 'Flavanoids', 'Nonflavanoid_Phenols','Proanthocyanins', 'Color_Intensity', 'Hue', 'OD280', 'Proline']]"
      ],
      "metadata": {
        "id": "Lt1dgUUC0MQ9"
      },
      "execution_count": null,
      "outputs": []
    },
    {
      "cell_type": "code",
      "source": [
        "from sklearn.cluster import KMeans\n",
        "from sklearn.metrics import silhouette_score"
      ],
      "metadata": {
        "id": "IXjEdvrNJ3zf"
      },
      "execution_count": null,
      "outputs": []
    },
    {
      "cell_type": "code",
      "source": [
        "wcss=[]\n",
        "for i in range(1,11):\n",
        "    km = KMeans(n_clusters=i,n_init=20)\n",
        "    km.fit(X)\n",
        "    css = km.inertia_\n",
        "    print('Clusters=',i,\" wcss= \",css)\n",
        "    wcss.append(css)"
      ],
      "metadata": {
        "colab": {
          "base_uri": "https://localhost:8080/"
        },
        "id": "DVsxn7G4J7GG",
        "outputId": "ff9fd5ca-a556-445e-b7db-9a6357f07fcc"
      },
      "execution_count": null,
      "outputs": [
        {
          "output_type": "stream",
          "name": "stdout",
          "text": [
            "Clusters= 1  wcss=  16308300.584856007\n",
            "Clusters= 2  wcss=  4065127.29013717\n",
            "Clusters= 3  wcss=  2094157.0792910561\n",
            "Clusters= 4  wcss=  1198586.8288328757\n",
            "Clusters= 5  wcss=  802131.0174622089\n",
            "Clusters= 6  wcss=  571653.3681413265\n",
            "Clusters= 7  wcss=  362116.5545627461\n",
            "Clusters= 8  wcss=  290756.99027731305\n",
            "Clusters= 9  wcss=  241195.86539136525\n",
            "Clusters= 10  wcss=  192524.21674536564\n"
          ]
        }
      ]
    },
    {
      "cell_type": "code",
      "source": [
        "plt.plot(range(1,11),wcss,marker='o')\n",
        "plt.xlabel(\"No of Clusters\")\n",
        "plt.ylabel(\"WCSS\")\n",
        "plt.show()"
      ],
      "metadata": {
        "colab": {
          "base_uri": "https://localhost:8080/",
          "height": 465
        },
        "id": "Z5JoJCaZJ_il",
        "outputId": "7ddcf841-2385-4519-9954-8db540d59374"
      },
      "execution_count": null,
      "outputs": [
        {
          "output_type": "display_data",
          "data": {
            "text/plain": [
              "<Figure size 640x480 with 1 Axes>"
            ],
            "image/png": "[encoded data removed]"
          },
          "metadata": {}
        }
      ]
    },
    {
      "cell_type": "code",
      "source": [
        "km = KMeans(n_clusters=2,n_init=20)\n",
        "km.fit(X)"
      ],
      "metadata": {
        "colab": {
          "base_uri": "https://localhost:8080/",
          "height": 74
        },
        "id": "iulyWvsVKE4h",
        "outputId": "c82efb77-6167-4856-f9c1-f3e553d371f2"
      },
      "execution_count": null,
      "outputs": [
        {
          "output_type": "execute_result",
          "data": {
            "text/plain": [
              "KMeans(n_clusters=2, n_init=20)"
            ],
            "text/html": [
              "<style>#sk-container-id-1 {color: black;background-color: white;}#sk-container-id-1 pre{padding: 0;}#sk-container-id-1 div.sk-toggleable {background-color: white;}#sk-container-id-1 label.sk-toggleable__label {cursor: pointer;display: block;width: 100%;margin-bottom: 0;padding: 0.3em;box-sizing: border-box;text-align: center;}#sk-container-id-1 label.sk-toggleable__label-arrow:before {content: \"▸\";float: left;margin-right: 0.25em;color: #696969;}#sk-container-id-1 label.sk-toggleable__label-arrow:hover:before {color: black;}#sk-container-id-1 div.sk-estimator:hover label.sk-toggleable__label-arrow:before {color: black;}#sk-container-id-1 div.sk-toggleable__content {max-height: 0;max-width: 0;overflow: hidden;text-align: left;background-color: #f0f8ff;}#sk-container-id-1 div.sk-toggleable__content pre {margin: 0.2em;color: black;border-radius: 0.25em;background-color: #f0f8ff;}#sk-container-id-1 input.sk-toggleable__control:checked~div.sk-toggleable__content {max-height: 200px;max-width: 100%;overflow: auto;}#sk-container-id-1 input.sk-toggleable__control:checked~label.sk-toggleable__label-arrow:before {content: \"▾\";}#sk-container-id-1 div.sk-estimator input.sk-toggleable__control:checked~label.sk-toggleable__label {background-color: #d4ebff;}#sk-container-id-1 div.sk-label input.sk-toggleable__control:checked~label.sk-toggleable__label {background-color: #d4ebff;}#sk-container-id-1 input.sk-hidden--visually {border: 0;clip: rect(1px 1px 1px 1px);clip: rect(1px, 1px, 1px, 1px);height: 1px;margin: -1px;overflow: hidden;padding: 0;position: absolute;width: 1px;}#sk-container-id-1 div.sk-estimator {font-family: monospace;background-color: #f0f8ff;border: 1px dotted black;border-radius: 0.25em;box-sizing: border-box;margin-bottom: 0.5em;}#sk-container-id-1 div.sk-estimator:hover {background-color: #d4ebff;}#sk-container-id-1 div.sk-parallel-item::after {content: \"\";width: 100%;border-bottom: 1px solid gray;flex-grow: 1;}#sk-container-id-1 div.sk-label:hover label.sk-toggleable__label {background-color: #d4ebff;}#sk-container-id-1 div.sk-serial::before {content: \"\";position: absolute;border-left: 1px solid gray;box-sizing: border-box;top: 0;bottom: 0;left: 50%;z-index: 0;}#sk-container-id-1 div.sk-serial {display: flex;flex-direction: column;align-items: center;background-color: white;padding-right: 0.2em;padding-left: 0.2em;position: relative;}#sk-container-id-1 div.sk-item {position: relative;z-index: 1;}#sk-container-id-1 div.sk-parallel {display: flex;align-items: stretch;justify-content: center;background-color: white;position: relative;}#sk-container-id-1 div.sk-item::before, #sk-container-id-1 div.sk-parallel-item::before {content: \"\";position: absolute;border-left: 1px solid gray;box-sizing: border-box;top: 0;bottom: 0;left: 50%;z-index: -1;}#sk-container-id-1 div.sk-parallel-item {display: flex;flex-direction: column;z-index: 1;position: relative;background-color: white;}#sk-container-id-1 div.sk-parallel-item:first-child::after {align-self: flex-end;width: 50%;}#sk-container-id-1 div.sk-parallel-item:last-child::after {align-self: flex-start;width: 50%;}#sk-container-id-1 div.sk-parallel-item:only-child::after {width: 0;}#sk-container-id-1 div.sk-dashed-wrapped {border: 1px dashed gray;margin: 0 0.4em 0.5em 0.4em;box-sizing: border-box;padding-bottom: 0.4em;background-color: white;}#sk-container-id-1 div.sk-label label {font-family: monospace;font-weight: bold;display: inline-block;line-height: 1.2em;}#sk-container-id-1 div.sk-label-container {text-align: center;}#sk-container-id-1 div.sk-container {/* jupyter's `normalize.less` sets `[hidden] { display: none; }` but bootstrap.min.css set `[hidden] { display: none !important; }` so we also need the `!important` here to be able to override the default hidden behavior on the sphinx rendered scikit-learn.org. See: https://github.com/scikit-learn/scikit-learn/issues/21755 */display: inline-block !important;position: relative;}#sk-container-id-1 div.sk-text-repr-fallback {display: none;}</style><div id=\"sk-container-id-1\" class=\"sk-top-container\"><div class=\"sk-text-repr-fallback\"><pre>KMeans(n_clusters=2, n_init=20)</pre><b>In a Jupyter environment, please rerun this cell to show the HTML representation or trust the notebook. <br />On GitHub, the HTML representation is unable to render, please try loading this page with nbviewer.org.</b></div><div class=\"sk-container\" hidden><div class=\"sk-item\"><div class=\"sk-estimator sk-toggleable\"><input class=\"sk-toggleable__control sk-hidden--visually\" id=\"sk-estimator-id-1\" type=\"checkbox\" checked><label for=\"sk-estimator-id-1\" class=\"sk-toggleable__label sk-toggleable__label-arrow\">KMeans</label><div class=\"sk-toggleable__content\"><pre>KMeans(n_clusters=2, n_init=20)</pre></div></div></div></div></div>"
            ]
          },
          "metadata": {},
          "execution_count": 55
        }
      ]
    },
    {
      "cell_type": "code",
      "source": [
        "cluster_labels = km.predict(X)\n",
        "cluster_labels"
      ],
      "metadata": {
        "colab": {
          "base_uri": "https://localhost:8080/"
        },
        "id": "5GPtkPccKKpd",
        "outputId": "cebeb8ae-972e-4ae6-c577-b3f6fc6875b2"
      },
      "execution_count": null,
      "outputs": [
        {
          "output_type": "execute_result",
          "data": {
            "text/plain": [
              "array([1, 1, 1, 1, 0, 1, 1, 1, 1, 1, 1, 1, 1, 1, 1, 1, 1, 1, 0, 0, 0, 1,\n",
              "       1, 0, 1, 1, 1, 1, 1, 1, 1, 1, 1, 1, 1, 1, 1, 0, 0, 1, 1, 0, 1, 1,\n",
              "       1, 1, 1, 1, 1, 1, 1, 1, 1, 1, 1, 1, 1, 0, 0, 0, 0, 0, 0, 0, 0, 0,\n",
              "       1, 0, 0, 1, 0, 0, 0, 0, 0, 0, 0, 0, 0, 0, 0, 0, 0, 0, 0, 0, 0, 0,\n",
              "       0, 0, 0, 0, 0, 0, 0, 0, 0, 0, 0, 0, 0, 0, 0, 0, 0, 0, 0, 0, 0, 0,\n",
              "       0, 0, 0, 0, 0, 0, 0, 0, 0, 0, 0, 0, 0, 0, 0, 0, 0, 0, 0, 0, 0, 0,\n",
              "       0, 0, 0, 0, 0, 0, 0, 0, 0, 0, 0, 0, 1, 0, 0, 0, 0, 0, 0, 0, 0, 0,\n",
              "       0, 0, 0, 0, 0, 0, 0, 0], dtype=int32)"
            ]
          },
          "metadata": {},
          "execution_count": 56
        }
      ]
    },
    {
      "cell_type": "code",
      "source": [
        "from sklearn.metrics import silhouette_score\n",
        "sil_km =  silhouette_score(X,cluster_labels)\n",
        "sil_km"
      ],
      "metadata": {
        "colab": {
          "base_uri": "https://localhost:8080/"
        },
        "id": "bUo8NxlXKPzP",
        "outputId": "2142b343-9762-483d-d452-5366c7e00be3"
      },
      "execution_count": null,
      "outputs": [
        {
          "output_type": "execute_result",
          "data": {
            "text/plain": [
              "0.6605645843098455"
            ]
          },
          "metadata": {},
          "execution_count": 57
        }
      ]
    },
    {
      "cell_type": "markdown",
      "source": [
        "### Agglomerative Clustering"
      ],
      "metadata": {
        "id": "-wnyImDLKkTc"
      }
    },
    {
      "cell_type": "code",
      "source": [
        "import scipy.cluster.hierarchy as sch"
      ],
      "metadata": {
        "id": "FhWc4HpHKSQw"
      },
      "execution_count": null,
      "outputs": []
    },
    {
      "cell_type": "code",
      "source": [
        "dendrogram = sch.dendrogram(sch.linkage(data, method = 'ward'))\n",
        "plt.title('Dendogram')\n",
        "plt.xlabel('Data Points')\n",
        "plt.ylabel('Euclidean Distance')\n",
        "plt.show()"
      ],
      "metadata": {
        "colab": {
          "base_uri": "https://localhost:8080/",
          "height": 471
        },
        "id": "sS5ns-MgKtls",
        "outputId": "d35ecc99-5358-4fb3-9b5f-bc4f4187a5c1"
      },
      "execution_count": null,
      "outputs": [
        {
          "output_type": "display_data",
          "data": {
            "text/plain": [
              "<Figure size 640x480 with 1 Axes>"
            ],
            "image/png": "[encoded data removed]"
          },
          "metadata": {}
        }
      ]
    },
    {
      "cell_type": "code",
      "source": [
        "from sklearn.cluster import AgglomerativeClustering"
      ],
      "metadata": {
        "id": "nmy5_fNaKxxS"
      },
      "execution_count": null,
      "outputs": []
    },
    {
      "cell_type": "code",
      "source": [
        "ahc = AgglomerativeClustering(n_clusters =2, affinity =  'euclidean', linkage = 'ward')\n",
        "y_ahc = ahc.fit_predict(data)"
      ],
      "metadata": {
        "colab": {
          "base_uri": "https://localhost:8080/"
        },
        "id": "qJC4Sml4LvlO",
        "outputId": "224a360a-a37b-4bff-fcc2-ecb27527caa0"
      },
      "execution_count": null,
      "outputs": [
        {
          "output_type": "stream",
          "name": "stderr",
          "text": [
            "/usr/local/lib/python3.10/dist-packages/sklearn/cluster/_agglomerative.py:983: FutureWarning: Attribute `affinity` was deprecated in version 1.2 and will be removed in 1.4. Use `metric` instead\n",
            "  warnings.warn(\n"
          ]
        }
      ]
    },
    {
      "cell_type": "code",
      "source": [
        "y_ahc"
      ],
      "metadata": {
        "colab": {
          "base_uri": "https://localhost:8080/"
        },
        "id": "5bHg7YweL0BZ",
        "outputId": "d79437a8-4c26-4582-9404-56d62db00885"
      },
      "execution_count": null,
      "outputs": [
        {
          "output_type": "execute_result",
          "data": {
            "text/plain": [
              "array([1, 1, 1, 1, 0, 1, 1, 1, 1, 1, 1, 1, 1, 1, 1, 1, 1, 1, 0, 0, 0, 1,\n",
              "       1, 0, 1, 1, 0, 1, 1, 1, 1, 1, 1, 0, 0, 1, 1, 0, 0, 1, 1, 0, 0, 1,\n",
              "       1, 1, 1, 1, 1, 1, 1, 1, 1, 1, 1, 1, 1, 0, 0, 0, 0, 0, 0, 0, 0, 0,\n",
              "       0, 0, 0, 0, 0, 0, 0, 0, 0, 0, 0, 0, 0, 0, 0, 0, 0, 0, 0, 0, 0, 0,\n",
              "       0, 0, 0, 0, 0, 0, 0, 0, 0, 0, 0, 0, 0, 0, 0, 0, 0, 0, 0, 0, 0, 0,\n",
              "       0, 0, 0, 0, 0, 0, 0, 0, 0, 0, 0, 0, 0, 0, 0, 0, 0, 0, 0, 0, 0, 0,\n",
              "       0, 0, 0, 0, 0, 0, 0, 0, 0, 0, 0, 0, 0, 0, 0, 0, 0, 0, 0, 0, 0, 0,\n",
              "       0, 0, 0, 0, 0, 0, 0, 0])"
            ]
          },
          "metadata": {},
          "execution_count": 62
        }
      ]
    },
    {
      "cell_type": "code",
      "source": [
        "from sklearn.metrics import silhouette_score\n",
        "sil_ahc =  silhouette_score(data,y_ahc)\n",
        "sil_ahc"
      ],
      "metadata": {
        "colab": {
          "base_uri": "https://localhost:8080/"
        },
        "id": "wVVEw-hEL2yy",
        "outputId": "fb6213f9-89cb-4632-a8ce-992695a6c13a"
      },
      "execution_count": null,
      "outputs": [
        {
          "output_type": "execute_result",
          "data": {
            "text/plain": [
              "0.6625084150439519"
            ]
          },
          "metadata": {},
          "execution_count": 63
        }
      ]
    },
    {
      "cell_type": "markdown",
      "source": [
        "### DB Scan clustering"
      ],
      "metadata": {
        "id": "6hSNff8gMbZw"
      }
    },
    {
      "cell_type": "code",
      "source": [
        "from sklearn.datasets import make_blobs\n",
        "from sklearn.neighbors import NearestNeighbors"
      ],
      "metadata": {
        "id": "8UkxXie2L5f7"
      },
      "execution_count": null,
      "outputs": []
    },
    {
      "cell_type": "code",
      "source": [
        "neigh = NearestNeighbors()\n",
        "nbrs = neigh.fit(X)"
      ],
      "metadata": {
        "id": "CYhbqMrCNjaN"
      },
      "execution_count": null,
      "outputs": []
    },
    {
      "cell_type": "code",
      "source": [
        "distance,indices = nbrs.kneighbors(X)"
      ],
      "metadata": {
        "id": "6AAQunbFNlWI"
      },
      "execution_count": null,
      "outputs": []
    },
    {
      "cell_type": "code",
      "source": [
        "distance"
      ],
      "metadata": {
        "colab": {
          "base_uri": "https://localhost:8080/"
        },
        "id": "Zf6pRWQ2NnX8",
        "outputId": "2faacd5f-a188-4418-c281-91a1c02e2b45"
      },
      "execution_count": null,
      "outputs": [
        {
          "output_type": "execute_result",
          "data": {
            "text/plain": [
              "array([[  0.        ,  10.3928052 ,  22.34074753,  24.76023223,\n",
              "         25.09466278],\n",
              "       [  0.        ,   6.78638343,   7.83291772,  13.14076482,\n",
              "         16.01121794],\n",
              "       [  0.        ,  12.2969915 ,  13.16761937,  36.71057341,\n",
              "         37.15471975],\n",
              "       [  0.        ,  30.09196903,  31.15941752,  35.80962161,\n",
              "        105.04076923],\n",
              "       [  0.        ,  17.72868015,  20.77652521,  22.42155882,\n",
              "         27.45302169],\n",
              "       [  0.        ,  30.09196903,  60.48524365,  65.39770944,\n",
              "         75.09062658],\n",
              "       [  0.        ,   6.23935093,  10.34467496,  10.72270022,\n",
              "         13.38382232],\n",
              "       [  0.        ,  15.3305512 ,  16.63357147,  17.67303596,\n",
              "         22.97238995],\n",
              "       [  0.        ,   3.27007645,   6.78638343,  10.3394584 ,\n",
              "         11.292161  ],\n",
              "       [  0.        ,   3.27007645,   7.83291772,  10.54944548,\n",
              "         11.03619047],\n",
              "       [  0.        ,   5.41997232,  31.15941752,  60.48524365,\n",
              "        135.37838712],\n",
              "       [  0.        ,   5.29867908,   9.81115691,  10.34467496,\n",
              "         12.3434031 ],\n",
              "       [  0.        ,  25.17260018,  30.8559427 ,  35.42045595,\n",
              "         37.57871871],\n",
              "       [  0.        ,   2.94961014,  32.46013709,  37.15471975,\n",
              "         40.13909067],\n",
              "       [  0.        ,  17.67303596,  25.17260018,  25.35888996,\n",
              "         25.85940448],\n",
              "       [  0.        ,  13.47668728,  15.3305512 ,  19.8303177 ,\n",
              "         20.86827496],\n",
              "       [  0.        ,  10.1335137 ,  30.42083661,  31.46021138,\n",
              "         32.46013709],\n",
              "       [  0.        , 165.04597511, 170.06238796, 200.06799119,\n",
              "        230.04751835],\n",
              "       [  0.        ,   9.59942186,  12.17651839,  13.30103755,\n",
              "         20.68035783],\n",
              "       [  0.        ,  17.51458535,  20.44215987,  26.29039939,\n",
              "         34.26311282],\n",
              "       [  0.        ,  16.7830897 ,  20.85419382,  21.66767869,\n",
              "         21.97860323],\n",
              "       [  0.        ,   5.18481437,  11.03619047,  11.292161  ,\n",
              "         11.45810194],\n",
              "       [  0.        ,   6.3684535 ,  20.16455554,  20.78798932,\n",
              "         20.94652716],\n",
              "       [  0.        ,  16.612098  ,  19.8679843 ,  20.68035783,\n",
              "         25.39479277],\n",
              "       [  0.        ,  13.16761937,  18.98908107,  45.25843568,\n",
              "         45.34518497],\n",
              "       [  0.        ,   5.29867908,   6.23935093,   9.24320291,\n",
              "         14.43268513],\n",
              "       [  0.        ,   8.7187155 ,  29.78023338,  30.12398878,\n",
              "         35.36120473],\n",
              "       [  0.        ,   5.18481437,   7.05973087,  10.3394584 ,\n",
              "         10.54944548],\n",
              "       [  0.        ,   9.19089767,   9.24320291,   9.81115691,\n",
              "         10.72270022],\n",
              "       [  0.        ,   5.41997232,  35.80962161,  65.39770944,\n",
              "        140.3062422 ],\n",
              "       [  0.        ,   6.48193644,  24.58831226,  26.61060691,\n",
              "         30.65739063],\n",
              "       [  0.        ,  34.91639157,  46.18980082,  46.59490101,\n",
              "         48.48474812],\n",
              "       [  0.        ,  10.05469542,  15.27273387,  15.66545882,\n",
              "         25.86129927],\n",
              "       [  0.        ,   8.7187155 ,  34.13224429,  35.87054363,\n",
              "         40.86357791],\n",
              "       [  0.        ,   6.17615576,  12.35634655,  13.51896283,\n",
              "         17.85027731],\n",
              "       [  0.        ,  11.1040308 ,  15.66545882,  23.69019628,\n",
              "         28.35206165],\n",
              "       [  0.        ,   6.3684535 ,  15.24984262,  15.4192088 ,\n",
              "         17.49295001],\n",
              "       [  0.        ,  20.44215987,  21.47016069,  27.96568075,\n",
              "         28.10955531],\n",
              "       [  0.        ,  17.51458535,  29.4071964 ,  32.23527726,\n",
              "         36.90437914],\n",
              "       [  0.        ,   7.05973087,  11.45810194,  13.4260791 ,\n",
              "         13.70629053],\n",
              "       [  0.        ,  10.05469542,  11.1040308 ,  18.6080762 ,\n",
              "         29.70882192],\n",
              "       [  0.        ,   4.7846421 ,   5.69814005,   6.22694949,\n",
              "          6.6033022 ],\n",
              "       [  0.        ,   6.17615576,   7.69095573,  15.61858828,\n",
              "         16.35054666],\n",
              "       [  0.        ,  15.27273387,  17.78028402,  18.6080762 ,\n",
              "         21.48919263],\n",
              "       [  0.        ,   6.23825296,  16.07347193,  16.9427064 ,\n",
              "         17.78028402],\n",
              "       [  0.        ,   6.48193644,  22.68218684,  30.77710025,\n",
              "         35.25428343],\n",
              "       [  0.        ,   6.23825296,  13.14076482,  15.23137223,\n",
              "         16.13828058],\n",
              "       [  0.        ,  12.07374424,  15.2540552 ,  23.63898898,\n",
              "         24.2220251 ],\n",
              "       [  0.        ,   2.94961014,  31.46021138,  36.71057341,\n",
              "         39.28731602],\n",
              "       [  0.        ,   9.52865678,  15.09685066,  15.2540552 ,\n",
              "         20.12950322],\n",
              "       [  0.        ,  12.2969915 ,  18.98908107,  44.35228743,\n",
              "         44.85748321],\n",
              "       [  0.        ,  60.85220867,  65.07808003,  75.09062658,\n",
              "         80.24226505],\n",
              "       [  0.        ,  10.3928052 ,  15.23137223,  16.9427064 ,\n",
              "         21.30055868],\n",
              "       [  0.        ,  10.1335137 ,  23.69019628,  25.86129927,\n",
              "         29.70882192],\n",
              "       [  0.        ,  22.68218684,  24.58831226,  50.65128725,\n",
              "         53.33071441],\n",
              "       [  0.        ,   9.52865678,  12.07374424,  12.3434031 ,\n",
              "         16.11041278],\n",
              "       [  0.        ,   9.19089767,  13.38382232,  13.47668728,\n",
              "         14.16789328],\n",
              "       [  0.        ,   4.7846421 ,   5.00984032,   8.1240261 ,\n",
              "          8.21384198],\n",
              "       [  0.        ,   4.00372327,  13.42924048,  15.19060894,\n",
              "         15.2036443 ],\n",
              "       [  0.        ,   6.61083958,  11.43025809,  14.29175287,\n",
              "         17.19380702],\n",
              "       [  0.        ,   6.02668234,   8.98994994,  10.53494186,\n",
              "         11.88417856],\n",
              "       [  0.        ,  11.41958843,  11.83559884,  13.10595666,\n",
              "         18.56192609],\n",
              "       [  0.        ,   5.00984032,   5.41789627,   6.22694949,\n",
              "          7.36287987],\n",
              "       [  0.        ,   9.48382834,   9.62210476,   9.9322354 ,\n",
              "         12.80367916],\n",
              "       [  0.        ,   2.65471279,   9.48382834,   9.6619822 ,\n",
              "         14.9414591 ],\n",
              "       [  0.        ,  10.80710414,  11.3121616 ,  17.72868015,\n",
              "         21.47016069],\n",
              "       [  0.        ,  13.51896283,  14.23575765,  16.35054666,\n",
              "         16.40251981],\n",
              "       [  0.        ,   5.80591939,   8.02720375,   8.75666032,\n",
              "         10.79843044],\n",
              "       [  0.        ,   8.2428325 ,  11.1819408 ,  11.61755998,\n",
              "         16.39653317],\n",
              "       [  0.        ,   7.69095573,  10.84988018,  12.35634655,\n",
              "         16.40251981],\n",
              "       [  0.        ,  11.44644486,  12.05419844,  12.16251619,\n",
              "         13.47344054],\n",
              "       [  0.        ,  10.05637111,  14.39259532,  14.79912497,\n",
              "         15.15556663],\n",
              "       [  0.        ,  14.04590332,  19.15215393,  23.1202141 ,\n",
              "         25.73579608],\n",
              "       [  0.        ,  14.40172212,  15.2036443 ,  16.95133918,\n",
              "         18.78235303],\n",
              "       [  0.        ,  12.38165982,  34.53971482,  37.39121153,\n",
              "         47.11940259],\n",
              "       [  0.        ,   8.26086557,  11.83614802,  14.66093449,\n",
              "         21.04862228],\n",
              "       [  0.        ,   9.47598544,  11.84363964,  17.26366126,\n",
              "         19.26901139],\n",
              "       [  0.        ,   6.30237257,   6.8070772 ,   8.42908061,\n",
              "          9.6619822 ],\n",
              "       [  0.        ,   7.52514452,   8.99363664,   9.58557771,\n",
              "         11.12997754],\n",
              "       [  0.        ,   4.00372327,  12.52064295,  13.71577923,\n",
              "         14.40172212],\n",
              "       [  0.        ,   4.67362814,   9.30306401,  10.27013632,\n",
              "         16.39191874],\n",
              "       [  0.        ,   7.64159015,   7.73605196,  11.15645105,\n",
              "         11.39295396],\n",
              "       [  0.        ,   8.25576768,  10.32989351,  10.3382542 ,\n",
              "         14.78788355],\n",
              "       [  0.        ,   9.47598544,  17.61428114,  23.93974728,\n",
              "         25.30519907],\n",
              "       [  0.        ,   9.50830164,  10.87158222,  11.61755998,\n",
              "         13.62852835],\n",
              "       [  0.        ,  13.71577923,  15.19060894,  16.24859686,\n",
              "         17.1270517 ],\n",
              "       [  0.        ,   6.3350217 ,   8.28180536,   9.9322354 ,\n",
              "         10.27013632],\n",
              "       [  0.        ,  12.38165982,  22.44993987,  25.43105189,\n",
              "         35.14504517],\n",
              "       [  0.        ,  11.11910068,  11.83559884,  12.42401706,\n",
              "         14.41958737],\n",
              "       [  0.        ,  13.67932016,  23.80129408,  34.88484771,\n",
              "         35.93049262],\n",
              "       [  0.        ,   8.49109534,   8.98994994,  12.16251619,\n",
              "         13.57673378],\n",
              "       [  0.        ,   7.63179533,  11.20821574,  12.63412443,\n",
              "         12.87873441],\n",
              "       [  0.        ,   5.32056388,   8.75666032,   9.69566398,\n",
              "         13.40894478],\n",
              "       [  0.        ,  11.83614802,  13.83576886,  15.97815697,\n",
              "         17.29307954],\n",
              "       [  0.        ,   3.47925279,   7.64159015,  12.19072188,\n",
              "         12.75042352],\n",
              "       [  0.        ,  11.00652534,  11.44644486,  12.52064295,\n",
              "         13.42924048],\n",
              "       [  0.        ,   6.02668234,   8.02720375,   8.10029012,\n",
              "          8.43961492],\n",
              "       [  0.        ,   8.25576768,  12.21564571,  12.87873441,\n",
              "         14.72145373],\n",
              "       [  0.        ,   4.98254955,  10.34109279,  25.43105189,\n",
              "         27.23360424],\n",
              "       [  0.        ,   2.65471279,   8.42908061,   9.62210476,\n",
              "         13.97474508],\n",
              "       [  0.        ,   7.74248022,   8.28180536,   9.30306401,\n",
              "          9.50830164],\n",
              "       [  0.        ,   4.98254955,  13.85053068,  22.44993987,\n",
              "         30.77552274],\n",
              "       [  0.        ,   5.41789627,   8.77615519,  10.03927786,\n",
              "         10.3382542 ],\n",
              "       [  0.        ,  10.34109279,  13.85053068,  17.39445889,\n",
              "         22.62574198],\n",
              "       [  0.        ,   8.1382492 ,  10.18831684,  16.66889019,\n",
              "         17.72754072],\n",
              "       [  0.        ,   8.49109534,  11.00652534,  12.05419844,\n",
              "         14.38264579],\n",
              "       [  0.        ,   6.65284901,   7.29488862,  10.05637111,\n",
              "         15.34915307],\n",
              "       [  0.        ,   5.32056388,   5.80591939,   8.43961492,\n",
              "         11.48065329],\n",
              "       [  0.        ,   4.67362814,   6.3350217 ,   7.74248022,\n",
              "         12.80367916],\n",
              "       [  0.        ,  11.11910068,  11.41958843,  20.33090259,\n",
              "         21.45575214],\n",
              "       [  0.        ,   9.64855948,  10.31898735,  15.34915307,\n",
              "         21.10675011],\n",
              "       [  0.        ,   3.47925279,   7.73605196,  13.73508282,\n",
              "         14.09957801],\n",
              "       [  0.        ,   6.61083958,  11.74332151,  14.00280686,\n",
              "         17.49563946],\n",
              "       [  0.        ,  13.10595666,  21.45575214,  21.52978867,\n",
              "         22.24621766],\n",
              "       [  0.        ,   4.53049666,   6.65284901,  10.31898735,\n",
              "         14.39259532],\n",
              "       [  0.        ,   4.53049666,   7.29488862,   9.64855948,\n",
              "         15.15556663],\n",
              "       [  0.        ,  10.82345139,  14.41958737,  18.56192609,\n",
              "         21.52978867],\n",
              "       [  0.        ,  10.82345139,  12.42401706,  17.39445889,\n",
              "         20.33090259],\n",
              "       [  0.        ,   9.22796836,  17.80983717,  20.25517465,\n",
              "         20.29565471],\n",
              "       [  0.        ,  13.42565455,  13.67932016,  21.86879512,\n",
              "         26.80191411],\n",
              "       [  0.        ,  12.80732212,  14.89649288,  19.08660787,\n",
              "         19.16276598],\n",
              "       [  0.        ,   4.78493469,  11.15645105,  12.19072188,\n",
              "         12.75693929],\n",
              "       [  0.        ,   8.1382492 ,  10.14001479,  11.54613355,\n",
              "         22.46476352],\n",
              "       [  0.        ,   8.8659912 ,  11.20821574,  12.84134728,\n",
              "         20.86218349],\n",
              "       [  0.        ,  12.16447697,  15.97815697,  16.16385164,\n",
              "         17.25621627],\n",
              "       [  0.        ,   7.7658805 ,   8.26086557,  13.83576886,\n",
              "         25.9302526 ],\n",
              "       [  0.        ,   9.22796836,  16.82586402,  17.07282343,\n",
              "         18.53550377],\n",
              "       [  0.        ,  11.54613355,  11.61047372,  17.07282343,\n",
              "         17.72754072],\n",
              "       [  0.        ,  10.14001479,  10.18831684,  11.61047372,\n",
              "         16.97788267],\n",
              "       [  0.        ,  16.7830897 ,  32.23527726,  32.92989675,\n",
              "         34.45543498],\n",
              "       [  0.        ,   7.52514452,   9.453502  ,  10.06671247,\n",
              "         11.16841976],\n",
              "       [  0.        ,  12.68220407,  12.75693929,  13.47665389,\n",
              "         14.70612457],\n",
              "       [  0.        ,  12.17651839,  17.18625323,  18.48602002,\n",
              "         19.8679843 ],\n",
              "       [  0.        ,  16.612098  ,  19.72341248,  21.31144059,\n",
              "         21.61501793],\n",
              "       [  0.        ,   8.10029012,  10.53494186,  10.79843044,\n",
              "         11.48065329],\n",
              "       [  0.        ,  11.15669306,  11.43025809,  11.74332151,\n",
              "         11.84363964],\n",
              "       [  0.        ,   8.8659912 ,  10.30612439,  12.63412443,\n",
              "         15.12020172],\n",
              "       [  0.        ,  18.64967024,  20.00750859,  21.58287979,\n",
              "         21.70266573],\n",
              "       [  0.        ,  14.04590332,  29.44784542,  33.11625583,\n",
              "         34.04706302],\n",
              "       [  0.        ,  21.80777384,  23.19149629,  30.12574148,\n",
              "         30.40737082],\n",
              "       [  0.        ,   7.36287987,   9.629325  ,   9.78619947,\n",
              "         10.06112817],\n",
              "       [  0.        ,  14.29175287,  14.8225234 ,  15.12020172,\n",
              "         17.49563946],\n",
              "       [  0.        ,   7.7658805 ,  14.66093449,  17.29307954,\n",
              "         26.63012016],\n",
              "       [  0.        ,  10.72645786,  10.87158222,  11.1819408 ,\n",
              "         11.79983474],\n",
              "       [  0.        ,  10.84988018,  14.23575765,  15.61858828,\n",
              "         17.85027731],\n",
              "       [  0.        ,   2.61070872,   6.8070772 ,   8.99363664,\n",
              "         10.06671247],\n",
              "       [  0.        ,   5.43518169,   5.69814005,   8.1240261 ,\n",
              "         10.14142495],\n",
              "       [  0.        ,  13.04578476,  14.91221982,  20.38693209,\n",
              "         20.48437209],\n",
              "       [  0.        ,   5.43518169,   6.6033022 ,   8.21384198,\n",
              "          9.26059933],\n",
              "       [  0.        ,  11.15669306,  14.00280686,  16.66889019,\n",
              "         16.97788267],\n",
              "       [  0.        ,   2.61070872,   6.30237257,   9.453502  ,\n",
              "          9.58557771],\n",
              "       [  0.        ,  16.55178238,  18.02458599,  19.11400795,\n",
              "         20.94017431],\n",
              "       [  0.        ,  10.32989351,  11.67141808,  12.16447697,\n",
              "         13.94745138],\n",
              "       [  0.        ,   3.88500965,  10.80710414,  20.77652521,\n",
              "         21.66767869],\n",
              "       [  0.        ,  13.42565455,  14.8225234 ,  18.68937131,\n",
              "         20.2169335 ],\n",
              "       [  0.        ,  11.12997754,  11.16841976,  12.7445047 ,\n",
              "         13.2195953 ],\n",
              "       [  0.        ,   8.2428325 ,  10.72645786,  13.62852835,\n",
              "         18.78235303],\n",
              "       [  0.        ,   7.63179533,  10.30612439,  12.84134728,\n",
              "         15.32955642],\n",
              "       [  0.        ,   3.88500965,  11.3121616 ,  20.85419382,\n",
              "         22.42155882],\n",
              "       [  0.        ,   5.35888981,  13.30103755,  19.72341248,\n",
              "         21.71928176],\n",
              "       [  0.        ,   5.35888981,   9.59942186,  17.18625323,\n",
              "         21.31144059],\n",
              "       [  0.        ,   4.78493469,  11.39295396,  12.68220407,\n",
              "         12.75042352]])"
            ]
          },
          "metadata": {},
          "execution_count": 67
        }
      ]
    },
    {
      "cell_type": "code",
      "source": [
        "indices"
      ],
      "metadata": {
        "colab": {
          "base_uri": "https://localhost:8080/"
        },
        "id": "1ntL4nV4Nsr8",
        "outputId": "3d16d3bf-24aa-42a3-b084-9b7eea71cd22"
      },
      "execution_count": null,
      "outputs": [
        {
          "output_type": "execute_result",
          "data": {
            "text/plain": [
              "array([[  0,  52,  43,  46,  44],\n",
              "       [  1,   8,   9,  46,  21],\n",
              "       [  2,  50,  24,  48,  13],\n",
              "       [  3,   5,  10,  29,  51],\n",
              "       [  4,  65, 153, 158, 142],\n",
              "       [  5,   3,  10,  29,  51],\n",
              "       [  6,  25,  11,  28,  56],\n",
              "       [  7,  15,  56,  14,  28],\n",
              "       [  8,   9,   1,  27,  21],\n",
              "       [  9,   8,   1,  27,  21],\n",
              "       [ 10,  29,   3,   5,  51],\n",
              "       [ 11,  25,  28,   6,  55],\n",
              "       [ 12,  14,   6,  25,  28],\n",
              "       [ 13,  48,  16,   2,  53],\n",
              "       [ 14,   7,  12,  56,   6],\n",
              "       [ 15,  56,   7,  28,  55],\n",
              "       [ 16,  53,  35,  48,  13],\n",
              "       [ 17,  29,  10,   3,   5],\n",
              "       [ 18, 160, 132, 159,  23],\n",
              "       [ 19,  38,  37,  20,  65],\n",
              "       [ 20, 129, 158, 153,  65],\n",
              "       [ 21,  27,   9,   8,  39],\n",
              "       [ 22,  36,  27,  39,  21],\n",
              "       [ 23, 133, 132,  18, 160],\n",
              "       [ 24,   2,  50,  48,  13],\n",
              "       [ 25,  11,   6,  28,  56],\n",
              "       [ 26,  33,  69,  42,  34],\n",
              "       [ 27,  21,  39,   8,   9],\n",
              "       [ 28,  56,  25,  11,   6],\n",
              "       [ 29,  10,   3,   5,  51],\n",
              "       [ 30,  45,  54,  22,  36],\n",
              "       [ 31,  47,  55,  15,  49],\n",
              "       [ 32,  40,  43,  35,  53],\n",
              "       [ 33,  26,  69,  42, 144],\n",
              "       [ 34,  42,  69,  66, 144],\n",
              "       [ 35,  40,  32,  53,  43],\n",
              "       [ 36,  22,  27,  21,  39],\n",
              "       [ 37,  19,  65, 153,   4],\n",
              "       [ 38,  19,  20, 129,  37],\n",
              "       [ 39,  27,  21,   8,   9],\n",
              "       [ 40,  32,  35,  43,  53],\n",
              "       [ 41,  57, 146,  62, 148],\n",
              "       [ 42,  34,  69, 144,  66],\n",
              "       [ 43,  32,  44,  40,  52],\n",
              "       [ 44,  46,   1,  52,  43],\n",
              "       [ 45,  30,  54,  22,  36],\n",
              "       [ 46,  44,   1,  52,   9],\n",
              "       [ 47,  55,  49,  15,  11],\n",
              "       [ 48,  13,  16,   2,  53],\n",
              "       [ 49,  55,  11,  47,  25],\n",
              "       [ 50,   2,  24,  48,  13],\n",
              "       [ 51,  12,  14,   5,   7],\n",
              "       [ 52,   0,  46,  44,   1],\n",
              "       [ 53,  16,  35,  32,  40],\n",
              "       [ 54,  45,  30,  22,  33],\n",
              "       [ 55,  49,  47,  11,  28],\n",
              "       [ 56,  28,   6,  15,  11],\n",
              "       [ 57,  41,  62, 146, 148],\n",
              "       [ 58,  79,  95,  85,  73],\n",
              "       [ 59, 112, 135, 141, 149],\n",
              "       [ 60,  96,  90, 134,  67],\n",
              "       [ 61, 109,  88, 113, 116],\n",
              "       [ 62,  57, 102,  41, 140],\n",
              "       [ 63,  64,  99,  86, 108],\n",
              "       [ 64,  99,  63,  77, 145],\n",
              "       [ 65, 153, 158,   4,  37],\n",
              "       [ 66,  34, 144,  42,  69],\n",
              "       [ 67, 107,  96,  92, 134],\n",
              "       [ 68, 156, 143,  84, 100],\n",
              "       [ 69,  42, 144,  34,  66],\n",
              "       [ 70,  95, 105,  90,  60],\n",
              "       [ 71, 106, 114,  92, 115],\n",
              "       [ 72, 138, 155,  80, 130],\n",
              "       [ 73,  79,  58,  68, 156],\n",
              "       [ 74,  87, 101,  98, 103],\n",
              "       [ 75, 125,  93, 142, 124],\n",
              "       [ 76,  83, 135,  59, 112],\n",
              "       [ 77, 150, 145,  99,  64],\n",
              "       [ 78, 130, 145, 150, 155],\n",
              "       [ 79,  58,  95,  85,  73],\n",
              "       [ 80, 108, 100,  86,  63],\n",
              "       [ 81,  94, 111, 121, 161],\n",
              "       [ 82,  97, 152, 102,  62],\n",
              "       [ 83,  76, 135, 149,  59],\n",
              "       [ 84, 100, 143,  68, 156],\n",
              "       [ 85,  79,  58, 105,  95],\n",
              "       [ 86, 108, 100,  63,  80],\n",
              "       [ 87,  74, 101,  98, 103],\n",
              "       [ 88, 109,  61, 117, 116],\n",
              "       [ 89, 119, 154, 141, 104],\n",
              "       [ 90, 105,  60,  70,  96],\n",
              "       [ 91, 157, 123, 136,  97],\n",
              "       [ 92, 107,  67,  96, 134],\n",
              "       [ 93,  75, 125, 124, 142],\n",
              "       [ 94, 111,  81, 121, 161],\n",
              "       [ 95, 105,  70,  79,  58],\n",
              "       [ 96,  60,  67, 134, 107],\n",
              "       [ 97,  82, 102,  91,  62],\n",
              "       [ 98, 101, 103,  87, 117],\n",
              "       [ 99,  64,  77,  63, 145],\n",
              "       [100, 108,  86,  80,  84],\n",
              "       [101,  98, 103,  87, 117],\n",
              "       [102,  62,  57,  41,  82],\n",
              "       [103,  98, 101, 117,  88],\n",
              "       [104, 122, 128, 149, 127],\n",
              "       [105,  90,  95,  70,  60],\n",
              "       [106, 114, 115,  71, 110],\n",
              "       [107,  92,  67,  96, 134],\n",
              "       [108,  80,  86, 100,  63],\n",
              "       [109,  88,  61, 117, 113],\n",
              "       [110, 115, 114, 106,  71],\n",
              "       [111,  94,  81, 121, 161],\n",
              "       [112,  59, 135, 149, 141],\n",
              "       [113,  61, 109, 116, 115],\n",
              "       [114, 115, 106, 110,  71],\n",
              "       [115, 114, 106, 110,  71],\n",
              "       [116, 117,  88,  61, 113],\n",
              "       [117, 116,  88, 103, 109],\n",
              "       [118, 126, 111,  94,  81],\n",
              "       [119, 154,  89, 141, 112],\n",
              "       [120, 130,  78, 145, 150],\n",
              "       [121, 161,  81,  94, 131],\n",
              "       [122, 104, 128, 127, 149],\n",
              "       [123, 136,  91, 157, 141],\n",
              "       [124, 152,  93, 102,  57],\n",
              "       [125, 142,  75,  93, 124],\n",
              "       [126, 118, 111, 127,  94],\n",
              "       [127, 122, 128, 126, 104],\n",
              "       [128, 122, 104, 127, 149],\n",
              "       [129,  20,  38, 158, 153],\n",
              "       [130,  78, 150, 145, 155],\n",
              "       [131, 161, 121,  94,  81],\n",
              "       [132,  18, 160,  66,  23],\n",
              "       [133,  23, 159, 160,  18],\n",
              "       [134,  96,  60,  67, 107],\n",
              "       [135, 149,  59, 112,  76],\n",
              "       [136, 123, 157,  91, 141],\n",
              "       [137, 121, 161, 147, 131],\n",
              "       [138,  72, 155, 130,  80],\n",
              "       [139,  70,  95, 105,  60],\n",
              "       [140,  62, 148,  41,  57],\n",
              "       [141,  59, 154, 136, 112],\n",
              "       [142, 125,  75,  93, 158],\n",
              "       [143, 156,  84,  68, 100],\n",
              "       [144,  69,  66,  42,  34],\n",
              "       [145, 150,  77,  78, 130],\n",
              "       [146, 148,  41,  57,  62],\n",
              "       [147, 121, 161,  94,  81],\n",
              "       [148, 146,  41,  57,  62],\n",
              "       [149, 135, 112, 104, 128],\n",
              "       [150, 145,  77, 130,  78],\n",
              "       [151, 146, 124,  41,  57],\n",
              "       [152,  82, 102, 124,  62],\n",
              "       [153, 158,  65,   4,  20],\n",
              "       [154, 119, 141, 112,  59],\n",
              "       [155,  78, 130,  77, 145],\n",
              "       [156,  68, 143,  84,  73],\n",
              "       [157,  91, 136, 123,  97],\n",
              "       [158, 153,  65,  20,   4],\n",
              "       [159, 160,  18, 133, 132],\n",
              "       [160, 159,  18, 132, 133],\n",
              "       [161, 121,  81, 131,  94]])"
            ]
          },
          "metadata": {},
          "execution_count": 68
        }
      ]
    },
    {
      "cell_type": "code",
      "source": [
        "distances = np.sort(distance,axis=0)\n",
        "distances = distances[:,1]\n",
        "plt.plot(distances)"
      ],
      "metadata": {
        "colab": {
          "base_uri": "https://localhost:8080/",
          "height": 447
        },
        "id": "J7C6RdF1NvI9",
        "outputId": "9652e24f-8dd1-4538-944e-10c99cbe0e89"
      },
      "execution_count": null,
      "outputs": [
        {
          "output_type": "execute_result",
          "data": {
            "text/plain": [
              "[<matplotlib.lines.Line2D at 0x7f2edbaea4d0>]"
            ]
          },
          "metadata": {},
          "execution_count": 69
        },
        {
          "output_type": "display_data",
          "data": {
            "text/plain": [
              "<Figure size 640x480 with 1 Axes>"
            ],
            "image/png": "[encoded data removed]"
          },
          "metadata": {}
        }
      ]
    },
    {
      "cell_type": "code",
      "source": [
        "from sklearn.cluster import DBSCAN"
      ],
      "metadata": {
        "id": "nZQjD6hYNz8h"
      },
      "execution_count": null,
      "outputs": []
    },
    {
      "cell_type": "code",
      "source": [
        "clustering = DBSCAN(eps=35,min_samples=3)\n",
        "clustering.fit(X)"
      ],
      "metadata": {
        "colab": {
          "base_uri": "https://localhost:8080/",
          "height": 74
        },
        "id": "g9LAlXkyN2xm",
        "outputId": "04d137d1-a84e-4161-899e-f7f21e88c756"
      },
      "execution_count": null,
      "outputs": [
        {
          "output_type": "execute_result",
          "data": {
            "text/plain": [
              "DBSCAN(eps=35, min_samples=3)"
            ],
            "text/html": [
              "<style>#sk-container-id-2 {color: black;background-color: white;}#sk-container-id-2 pre{padding: 0;}#sk-container-id-2 div.sk-toggleable {background-color: white;}#sk-container-id-2 label.sk-toggleable__label {cursor: pointer;display: block;width: 100%;margin-bottom: 0;padding: 0.3em;box-sizing: border-box;text-align: center;}#sk-container-id-2 label.sk-toggleable__label-arrow:before {content: \"▸\";float: left;margin-right: 0.25em;color: #696969;}#sk-container-id-2 label.sk-toggleable__label-arrow:hover:before {color: black;}#sk-container-id-2 div.sk-estimator:hover label.sk-toggleable__label-arrow:before {color: black;}#sk-container-id-2 div.sk-toggleable__content {max-height: 0;max-width: 0;overflow: hidden;text-align: left;background-color: #f0f8ff;}#sk-container-id-2 div.sk-toggleable__content pre {margin: 0.2em;color: black;border-radius: 0.25em;background-color: #f0f8ff;}#sk-container-id-2 input.sk-toggleable__control:checked~div.sk-toggleable__content {max-height: 200px;max-width: 100%;overflow: auto;}#sk-container-id-2 input.sk-toggleable__control:checked~label.sk-toggleable__label-arrow:before {content: \"▾\";}#sk-container-id-2 div.sk-estimator input.sk-toggleable__control:checked~label.sk-toggleable__label {background-color: #d4ebff;}#sk-container-id-2 div.sk-label input.sk-toggleable__control:checked~label.sk-toggleable__label {background-color: #d4ebff;}#sk-container-id-2 input.sk-hidden--visually {border: 0;clip: rect(1px 1px 1px 1px);clip: rect(1px, 1px, 1px, 1px);height: 1px;margin: -1px;overflow: hidden;padding: 0;position: absolute;width: 1px;}#sk-container-id-2 div.sk-estimator {font-family: monospace;background-color: #f0f8ff;border: 1px dotted black;border-radius: 0.25em;box-sizing: border-box;margin-bottom: 0.5em;}#sk-container-id-2 div.sk-estimator:hover {background-color: #d4ebff;}#sk-container-id-2 div.sk-parallel-item::after {content: \"\";width: 100%;border-bottom: 1px solid gray;flex-grow: 1;}#sk-container-id-2 div.sk-label:hover label.sk-toggleable__label {background-color: #d4ebff;}#sk-container-id-2 div.sk-serial::before {content: \"\";position: absolute;border-left: 1px solid gray;box-sizing: border-box;top: 0;bottom: 0;left: 50%;z-index: 0;}#sk-container-id-2 div.sk-serial {display: flex;flex-direction: column;align-items: center;background-color: white;padding-right: 0.2em;padding-left: 0.2em;position: relative;}#sk-container-id-2 div.sk-item {position: relative;z-index: 1;}#sk-container-id-2 div.sk-parallel {display: flex;align-items: stretch;justify-content: center;background-color: white;position: relative;}#sk-container-id-2 div.sk-item::before, #sk-container-id-2 div.sk-parallel-item::before {content: \"\";position: absolute;border-left: 1px solid gray;box-sizing: border-box;top: 0;bottom: 0;left: 50%;z-index: -1;}#sk-container-id-2 div.sk-parallel-item {display: flex;flex-direction: column;z-index: 1;position: relative;background-color: white;}#sk-container-id-2 div.sk-parallel-item:first-child::after {align-self: flex-end;width: 50%;}#sk-container-id-2 div.sk-parallel-item:last-child::after {align-self: flex-start;width: 50%;}#sk-container-id-2 div.sk-parallel-item:only-child::after {width: 0;}#sk-container-id-2 div.sk-dashed-wrapped {border: 1px dashed gray;margin: 0 0.4em 0.5em 0.4em;box-sizing: border-box;padding-bottom: 0.4em;background-color: white;}#sk-container-id-2 div.sk-label label {font-family: monospace;font-weight: bold;display: inline-block;line-height: 1.2em;}#sk-container-id-2 div.sk-label-container {text-align: center;}#sk-container-id-2 div.sk-container {/* jupyter's `normalize.less` sets `[hidden] { display: none; }` but bootstrap.min.css set `[hidden] { display: none !important; }` so we also need the `!important` here to be able to override the default hidden behavior on the sphinx rendered scikit-learn.org. See: https://github.com/scikit-learn/scikit-learn/issues/21755 */display: inline-block !important;position: relative;}#sk-container-id-2 div.sk-text-repr-fallback {display: none;}</style><div id=\"sk-container-id-2\" class=\"sk-top-container\"><div class=\"sk-text-repr-fallback\"><pre>DBSCAN(eps=35, min_samples=3)</pre><b>In a Jupyter environment, please rerun this cell to show the HTML representation or trust the notebook. <br />On GitHub, the HTML representation is unable to render, please try loading this page with nbviewer.org.</b></div><div class=\"sk-container\" hidden><div class=\"sk-item\"><div class=\"sk-estimator sk-toggleable\"><input class=\"sk-toggleable__control sk-hidden--visually\" id=\"sk-estimator-id-2\" type=\"checkbox\" checked><label for=\"sk-estimator-id-2\" class=\"sk-toggleable__label sk-toggleable__label-arrow\">DBSCAN</label><div class=\"sk-toggleable__content\"><pre>DBSCAN(eps=35, min_samples=3)</pre></div></div></div></div></div>"
            ]
          },
          "metadata": {},
          "execution_count": 71
        }
      ]
    },
    {
      "cell_type": "code",
      "source": [
        "clusters = clustering.labels_"
      ],
      "metadata": {
        "id": "hzZ2PIGQQKSm"
      },
      "execution_count": null,
      "outputs": []
    },
    {
      "cell_type": "code",
      "source": [
        "len(set(clusters))"
      ],
      "metadata": {
        "colab": {
          "base_uri": "https://localhost:8080/"
        },
        "id": "vsRxKMPYQNEp",
        "outputId": "c416ef68-236e-4fdb-fd31-cf09fade1fb5"
      },
      "execution_count": null,
      "outputs": [
        {
          "output_type": "execute_result",
          "data": {
            "text/plain": [
              "7"
            ]
          },
          "metadata": {},
          "execution_count": 73
        }
      ]
    },
    {
      "cell_type": "code",
      "source": [
        "silhouette_score(X,clusters)"
      ],
      "metadata": {
        "colab": {
          "base_uri": "https://localhost:8080/"
        },
        "id": "tqjxURSaQPcx",
        "outputId": "1893a942-3086-4759-dd51-96d2e7cca1bf"
      },
      "execution_count": null,
      "outputs": [
        {
          "output_type": "execute_result",
          "data": {
            "text/plain": [
              "0.4701161293653681"
            ]
          },
          "metadata": {},
          "execution_count": 74
        }
      ]
    },
    {
      "cell_type": "code",
      "source": [],
      "metadata": {
        "id": "1kOQopJLQRsK"
      },
      "execution_count": null,
      "outputs": []
    }
  ]
}